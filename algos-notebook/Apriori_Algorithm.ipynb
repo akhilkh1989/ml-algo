{
  "nbformat": 4,
  "nbformat_minor": 0,
  "metadata": {
    "colab": {
      "name": "Apriori Algorithm",
      "provenance": [],
      "collapsed_sections": []
    },
    "kernelspec": {
      "name": "python3",
      "display_name": "Python 3"
    },
    "language_info": {
      "name": "python"
    }
  },
  "cells": [
    {
      "cell_type": "markdown",
      "source": [
        "#Apriori Algorithm\n",
        "\n",
        "---\n",
        "\n"
      ],
      "metadata": {
        "id": "9prv9Fi2wCSG"
      }
    },
    {
      "cell_type": "markdown",
      "source": [
        "Apriori algorith is used to identify association rules. Antescedant lead to consequent. {Ante} --> {Conse}.\n",
        "\n",
        "Use case is used in ecommerce or retail website, for example bread with butter is good combination.\n",
        "\n",
        "Steps for Apriori Algorithm\n",
        "1. High frequency items set identification\n",
        "2. Rule formation on high frequency item set\n",
        "\n"
      ],
      "metadata": {
        "id": "wE-ZFFZTwMUB"
      }
    },
    {
      "cell_type": "markdown",
      "source": [
        "###DataSet\n",
        "Market data present in sources."
      ],
      "metadata": {
        "id": "Ggo1u3YD0dtN"
      }
    },
    {
      "cell_type": "markdown",
      "source": [
        "Reading the data from file using pandas"
      ],
      "metadata": {
        "id": "ttUoAtpg12Yw"
      }
    },
    {
      "cell_type": "code",
      "source": [
        "import pandas as pd\n",
        "market_data = pd.read_csv(\"Market_Basket_Optimisation.csv\",index_col=None,header=None)"
      ],
      "metadata": {
        "id": "156O7qwi0crT"
      },
      "execution_count": 1,
      "outputs": []
    },
    {
      "cell_type": "markdown",
      "source": [
        "Exploring data"
      ],
      "metadata": {
        "id": "9QubSJXW11pJ"
      }
    },
    {
      "cell_type": "code",
      "source": [
        "market_data.shape"
      ],
      "metadata": {
        "colab": {
          "base_uri": "https://localhost:8080/"
        },
        "id": "hZic9QM30W6G",
        "outputId": "99d6a069-da31-41a5-a27e-72e0b61e07d7"
      },
      "execution_count": 2,
      "outputs": [
        {
          "output_type": "execute_result",
          "data": {
            "text/plain": [
              "(7501, 20)"
            ]
          },
          "metadata": {},
          "execution_count": 2
        }
      ]
    },
    {
      "cell_type": "code",
      "source": [
        "market_data.head(10)"
      ],
      "metadata": {
        "id": "zR1sKP7e2CH0",
        "outputId": "0b70041f-06e1-44c7-8389-f7dd950ab672",
        "colab": {
          "base_uri": "https://localhost:8080/",
          "height": 583
        }
      },
      "execution_count": 3,
      "outputs": [
        {
          "output_type": "execute_result",
          "data": {
            "text/plain": [
              "                  0             1           2                 3   \\\n",
              "0             shrimp       almonds     avocado    vegetables mix   \n",
              "1            burgers     meatballs        eggs               NaN   \n",
              "2            chutney           NaN         NaN               NaN   \n",
              "3             turkey       avocado         NaN               NaN   \n",
              "4      mineral water          milk  energy bar  whole wheat rice   \n",
              "5     low fat yogurt           NaN         NaN               NaN   \n",
              "6  whole wheat pasta  french fries         NaN               NaN   \n",
              "7               soup   light cream     shallot               NaN   \n",
              "8  frozen vegetables     spaghetti   green tea               NaN   \n",
              "9       french fries           NaN         NaN               NaN   \n",
              "\n",
              "             4                 5     6               7             8   \\\n",
              "0  green grapes  whole weat flour  yams  cottage cheese  energy drink   \n",
              "1           NaN               NaN   NaN             NaN           NaN   \n",
              "2           NaN               NaN   NaN             NaN           NaN   \n",
              "3           NaN               NaN   NaN             NaN           NaN   \n",
              "4     green tea               NaN   NaN             NaN           NaN   \n",
              "5           NaN               NaN   NaN             NaN           NaN   \n",
              "6           NaN               NaN   NaN             NaN           NaN   \n",
              "7           NaN               NaN   NaN             NaN           NaN   \n",
              "8           NaN               NaN   NaN             NaN           NaN   \n",
              "9           NaN               NaN   NaN             NaN           NaN   \n",
              "\n",
              "             9               10         11     12     13             14  \\\n",
              "0  tomato juice  low fat yogurt  green tea  honey  salad  mineral water   \n",
              "1           NaN             NaN        NaN    NaN    NaN            NaN   \n",
              "2           NaN             NaN        NaN    NaN    NaN            NaN   \n",
              "3           NaN             NaN        NaN    NaN    NaN            NaN   \n",
              "4           NaN             NaN        NaN    NaN    NaN            NaN   \n",
              "5           NaN             NaN        NaN    NaN    NaN            NaN   \n",
              "6           NaN             NaN        NaN    NaN    NaN            NaN   \n",
              "7           NaN             NaN        NaN    NaN    NaN            NaN   \n",
              "8           NaN             NaN        NaN    NaN    NaN            NaN   \n",
              "9           NaN             NaN        NaN    NaN    NaN            NaN   \n",
              "\n",
              "       15                 16               17       18         19  \n",
              "0  salmon  antioxydant juice  frozen smoothie  spinach  olive oil  \n",
              "1     NaN                NaN              NaN      NaN        NaN  \n",
              "2     NaN                NaN              NaN      NaN        NaN  \n",
              "3     NaN                NaN              NaN      NaN        NaN  \n",
              "4     NaN                NaN              NaN      NaN        NaN  \n",
              "5     NaN                NaN              NaN      NaN        NaN  \n",
              "6     NaN                NaN              NaN      NaN        NaN  \n",
              "7     NaN                NaN              NaN      NaN        NaN  \n",
              "8     NaN                NaN              NaN      NaN        NaN  \n",
              "9     NaN                NaN              NaN      NaN        NaN  "
            ],
            "text/html": [
              "\n",
              "  <div id=\"df-138256c6-86a1-4c5c-b33a-940f4d7d69d0\">\n",
              "    <div class=\"colab-df-container\">\n",
              "      <div>\n",
              "<style scoped>\n",
              "    .dataframe tbody tr th:only-of-type {\n",
              "        vertical-align: middle;\n",
              "    }\n",
              "\n",
              "    .dataframe tbody tr th {\n",
              "        vertical-align: top;\n",
              "    }\n",
              "\n",
              "    .dataframe thead th {\n",
              "        text-align: right;\n",
              "    }\n",
              "</style>\n",
              "<table border=\"1\" class=\"dataframe\">\n",
              "  <thead>\n",
              "    <tr style=\"text-align: right;\">\n",
              "      <th></th>\n",
              "      <th>0</th>\n",
              "      <th>1</th>\n",
              "      <th>2</th>\n",
              "      <th>3</th>\n",
              "      <th>4</th>\n",
              "      <th>5</th>\n",
              "      <th>6</th>\n",
              "      <th>7</th>\n",
              "      <th>8</th>\n",
              "      <th>9</th>\n",
              "      <th>10</th>\n",
              "      <th>11</th>\n",
              "      <th>12</th>\n",
              "      <th>13</th>\n",
              "      <th>14</th>\n",
              "      <th>15</th>\n",
              "      <th>16</th>\n",
              "      <th>17</th>\n",
              "      <th>18</th>\n",
              "      <th>19</th>\n",
              "    </tr>\n",
              "  </thead>\n",
              "  <tbody>\n",
              "    <tr>\n",
              "      <th>0</th>\n",
              "      <td>shrimp</td>\n",
              "      <td>almonds</td>\n",
              "      <td>avocado</td>\n",
              "      <td>vegetables mix</td>\n",
              "      <td>green grapes</td>\n",
              "      <td>whole weat flour</td>\n",
              "      <td>yams</td>\n",
              "      <td>cottage cheese</td>\n",
              "      <td>energy drink</td>\n",
              "      <td>tomato juice</td>\n",
              "      <td>low fat yogurt</td>\n",
              "      <td>green tea</td>\n",
              "      <td>honey</td>\n",
              "      <td>salad</td>\n",
              "      <td>mineral water</td>\n",
              "      <td>salmon</td>\n",
              "      <td>antioxydant juice</td>\n",
              "      <td>frozen smoothie</td>\n",
              "      <td>spinach</td>\n",
              "      <td>olive oil</td>\n",
              "    </tr>\n",
              "    <tr>\n",
              "      <th>1</th>\n",
              "      <td>burgers</td>\n",
              "      <td>meatballs</td>\n",
              "      <td>eggs</td>\n",
              "      <td>NaN</td>\n",
              "      <td>NaN</td>\n",
              "      <td>NaN</td>\n",
              "      <td>NaN</td>\n",
              "      <td>NaN</td>\n",
              "      <td>NaN</td>\n",
              "      <td>NaN</td>\n",
              "      <td>NaN</td>\n",
              "      <td>NaN</td>\n",
              "      <td>NaN</td>\n",
              "      <td>NaN</td>\n",
              "      <td>NaN</td>\n",
              "      <td>NaN</td>\n",
              "      <td>NaN</td>\n",
              "      <td>NaN</td>\n",
              "      <td>NaN</td>\n",
              "      <td>NaN</td>\n",
              "    </tr>\n",
              "    <tr>\n",
              "      <th>2</th>\n",
              "      <td>chutney</td>\n",
              "      <td>NaN</td>\n",
              "      <td>NaN</td>\n",
              "      <td>NaN</td>\n",
              "      <td>NaN</td>\n",
              "      <td>NaN</td>\n",
              "      <td>NaN</td>\n",
              "      <td>NaN</td>\n",
              "      <td>NaN</td>\n",
              "      <td>NaN</td>\n",
              "      <td>NaN</td>\n",
              "      <td>NaN</td>\n",
              "      <td>NaN</td>\n",
              "      <td>NaN</td>\n",
              "      <td>NaN</td>\n",
              "      <td>NaN</td>\n",
              "      <td>NaN</td>\n",
              "      <td>NaN</td>\n",
              "      <td>NaN</td>\n",
              "      <td>NaN</td>\n",
              "    </tr>\n",
              "    <tr>\n",
              "      <th>3</th>\n",
              "      <td>turkey</td>\n",
              "      <td>avocado</td>\n",
              "      <td>NaN</td>\n",
              "      <td>NaN</td>\n",
              "      <td>NaN</td>\n",
              "      <td>NaN</td>\n",
              "      <td>NaN</td>\n",
              "      <td>NaN</td>\n",
              "      <td>NaN</td>\n",
              "      <td>NaN</td>\n",
              "      <td>NaN</td>\n",
              "      <td>NaN</td>\n",
              "      <td>NaN</td>\n",
              "      <td>NaN</td>\n",
              "      <td>NaN</td>\n",
              "      <td>NaN</td>\n",
              "      <td>NaN</td>\n",
              "      <td>NaN</td>\n",
              "      <td>NaN</td>\n",
              "      <td>NaN</td>\n",
              "    </tr>\n",
              "    <tr>\n",
              "      <th>4</th>\n",
              "      <td>mineral water</td>\n",
              "      <td>milk</td>\n",
              "      <td>energy bar</td>\n",
              "      <td>whole wheat rice</td>\n",
              "      <td>green tea</td>\n",
              "      <td>NaN</td>\n",
              "      <td>NaN</td>\n",
              "      <td>NaN</td>\n",
              "      <td>NaN</td>\n",
              "      <td>NaN</td>\n",
              "      <td>NaN</td>\n",
              "      <td>NaN</td>\n",
              "      <td>NaN</td>\n",
              "      <td>NaN</td>\n",
              "      <td>NaN</td>\n",
              "      <td>NaN</td>\n",
              "      <td>NaN</td>\n",
              "      <td>NaN</td>\n",
              "      <td>NaN</td>\n",
              "      <td>NaN</td>\n",
              "    </tr>\n",
              "    <tr>\n",
              "      <th>5</th>\n",
              "      <td>low fat yogurt</td>\n",
              "      <td>NaN</td>\n",
              "      <td>NaN</td>\n",
              "      <td>NaN</td>\n",
              "      <td>NaN</td>\n",
              "      <td>NaN</td>\n",
              "      <td>NaN</td>\n",
              "      <td>NaN</td>\n",
              "      <td>NaN</td>\n",
              "      <td>NaN</td>\n",
              "      <td>NaN</td>\n",
              "      <td>NaN</td>\n",
              "      <td>NaN</td>\n",
              "      <td>NaN</td>\n",
              "      <td>NaN</td>\n",
              "      <td>NaN</td>\n",
              "      <td>NaN</td>\n",
              "      <td>NaN</td>\n",
              "      <td>NaN</td>\n",
              "      <td>NaN</td>\n",
              "    </tr>\n",
              "    <tr>\n",
              "      <th>6</th>\n",
              "      <td>whole wheat pasta</td>\n",
              "      <td>french fries</td>\n",
              "      <td>NaN</td>\n",
              "      <td>NaN</td>\n",
              "      <td>NaN</td>\n",
              "      <td>NaN</td>\n",
              "      <td>NaN</td>\n",
              "      <td>NaN</td>\n",
              "      <td>NaN</td>\n",
              "      <td>NaN</td>\n",
              "      <td>NaN</td>\n",
              "      <td>NaN</td>\n",
              "      <td>NaN</td>\n",
              "      <td>NaN</td>\n",
              "      <td>NaN</td>\n",
              "      <td>NaN</td>\n",
              "      <td>NaN</td>\n",
              "      <td>NaN</td>\n",
              "      <td>NaN</td>\n",
              "      <td>NaN</td>\n",
              "    </tr>\n",
              "    <tr>\n",
              "      <th>7</th>\n",
              "      <td>soup</td>\n",
              "      <td>light cream</td>\n",
              "      <td>shallot</td>\n",
              "      <td>NaN</td>\n",
              "      <td>NaN</td>\n",
              "      <td>NaN</td>\n",
              "      <td>NaN</td>\n",
              "      <td>NaN</td>\n",
              "      <td>NaN</td>\n",
              "      <td>NaN</td>\n",
              "      <td>NaN</td>\n",
              "      <td>NaN</td>\n",
              "      <td>NaN</td>\n",
              "      <td>NaN</td>\n",
              "      <td>NaN</td>\n",
              "      <td>NaN</td>\n",
              "      <td>NaN</td>\n",
              "      <td>NaN</td>\n",
              "      <td>NaN</td>\n",
              "      <td>NaN</td>\n",
              "    </tr>\n",
              "    <tr>\n",
              "      <th>8</th>\n",
              "      <td>frozen vegetables</td>\n",
              "      <td>spaghetti</td>\n",
              "      <td>green tea</td>\n",
              "      <td>NaN</td>\n",
              "      <td>NaN</td>\n",
              "      <td>NaN</td>\n",
              "      <td>NaN</td>\n",
              "      <td>NaN</td>\n",
              "      <td>NaN</td>\n",
              "      <td>NaN</td>\n",
              "      <td>NaN</td>\n",
              "      <td>NaN</td>\n",
              "      <td>NaN</td>\n",
              "      <td>NaN</td>\n",
              "      <td>NaN</td>\n",
              "      <td>NaN</td>\n",
              "      <td>NaN</td>\n",
              "      <td>NaN</td>\n",
              "      <td>NaN</td>\n",
              "      <td>NaN</td>\n",
              "    </tr>\n",
              "    <tr>\n",
              "      <th>9</th>\n",
              "      <td>french fries</td>\n",
              "      <td>NaN</td>\n",
              "      <td>NaN</td>\n",
              "      <td>NaN</td>\n",
              "      <td>NaN</td>\n",
              "      <td>NaN</td>\n",
              "      <td>NaN</td>\n",
              "      <td>NaN</td>\n",
              "      <td>NaN</td>\n",
              "      <td>NaN</td>\n",
              "      <td>NaN</td>\n",
              "      <td>NaN</td>\n",
              "      <td>NaN</td>\n",
              "      <td>NaN</td>\n",
              "      <td>NaN</td>\n",
              "      <td>NaN</td>\n",
              "      <td>NaN</td>\n",
              "      <td>NaN</td>\n",
              "      <td>NaN</td>\n",
              "      <td>NaN</td>\n",
              "    </tr>\n",
              "  </tbody>\n",
              "</table>\n",
              "</div>\n",
              "      <button class=\"colab-df-convert\" onclick=\"convertToInteractive('df-138256c6-86a1-4c5c-b33a-940f4d7d69d0')\"\n",
              "              title=\"Convert this dataframe to an interactive table.\"\n",
              "              style=\"display:none;\">\n",
              "        \n",
              "  <svg xmlns=\"http://www.w3.org/2000/svg\" height=\"24px\"viewBox=\"0 0 24 24\"\n",
              "       width=\"24px\">\n",
              "    <path d=\"M0 0h24v24H0V0z\" fill=\"none\"/>\n",
              "    <path d=\"M18.56 5.44l.94 2.06.94-2.06 2.06-.94-2.06-.94-.94-2.06-.94 2.06-2.06.94zm-11 1L8.5 8.5l.94-2.06 2.06-.94-2.06-.94L8.5 2.5l-.94 2.06-2.06.94zm10 10l.94 2.06.94-2.06 2.06-.94-2.06-.94-.94-2.06-.94 2.06-2.06.94z\"/><path d=\"M17.41 7.96l-1.37-1.37c-.4-.4-.92-.59-1.43-.59-.52 0-1.04.2-1.43.59L10.3 9.45l-7.72 7.72c-.78.78-.78 2.05 0 2.83L4 21.41c.39.39.9.59 1.41.59.51 0 1.02-.2 1.41-.59l7.78-7.78 2.81-2.81c.8-.78.8-2.07 0-2.86zM5.41 20L4 18.59l7.72-7.72 1.47 1.35L5.41 20z\"/>\n",
              "  </svg>\n",
              "      </button>\n",
              "      \n",
              "  <style>\n",
              "    .colab-df-container {\n",
              "      display:flex;\n",
              "      flex-wrap:wrap;\n",
              "      gap: 12px;\n",
              "    }\n",
              "\n",
              "    .colab-df-convert {\n",
              "      background-color: #E8F0FE;\n",
              "      border: none;\n",
              "      border-radius: 50%;\n",
              "      cursor: pointer;\n",
              "      display: none;\n",
              "      fill: #1967D2;\n",
              "      height: 32px;\n",
              "      padding: 0 0 0 0;\n",
              "      width: 32px;\n",
              "    }\n",
              "\n",
              "    .colab-df-convert:hover {\n",
              "      background-color: #E2EBFA;\n",
              "      box-shadow: 0px 1px 2px rgba(60, 64, 67, 0.3), 0px 1px 3px 1px rgba(60, 64, 67, 0.15);\n",
              "      fill: #174EA6;\n",
              "    }\n",
              "\n",
              "    [theme=dark] .colab-df-convert {\n",
              "      background-color: #3B4455;\n",
              "      fill: #D2E3FC;\n",
              "    }\n",
              "\n",
              "    [theme=dark] .colab-df-convert:hover {\n",
              "      background-color: #434B5C;\n",
              "      box-shadow: 0px 1px 3px 1px rgba(0, 0, 0, 0.15);\n",
              "      filter: drop-shadow(0px 1px 2px rgba(0, 0, 0, 0.3));\n",
              "      fill: #FFFFFF;\n",
              "    }\n",
              "  </style>\n",
              "\n",
              "      <script>\n",
              "        const buttonEl =\n",
              "          document.querySelector('#df-138256c6-86a1-4c5c-b33a-940f4d7d69d0 button.colab-df-convert');\n",
              "        buttonEl.style.display =\n",
              "          google.colab.kernel.accessAllowed ? 'block' : 'none';\n",
              "\n",
              "        async function convertToInteractive(key) {\n",
              "          const element = document.querySelector('#df-138256c6-86a1-4c5c-b33a-940f4d7d69d0');\n",
              "          const dataTable =\n",
              "            await google.colab.kernel.invokeFunction('convertToInteractive',\n",
              "                                                     [key], {});\n",
              "          if (!dataTable) return;\n",
              "\n",
              "          const docLinkHtml = 'Like what you see? Visit the ' +\n",
              "            '<a target=\"_blank\" href=https://colab.research.google.com/notebooks/data_table.ipynb>data table notebook</a>'\n",
              "            + ' to learn more about interactive tables.';\n",
              "          element.innerHTML = '';\n",
              "          dataTable['output_type'] = 'display_data';\n",
              "          await google.colab.output.renderOutput(dataTable, element);\n",
              "          const docLink = document.createElement('div');\n",
              "          docLink.innerHTML = docLinkHtml;\n",
              "          element.appendChild(docLink);\n",
              "        }\n",
              "      </script>\n",
              "    </div>\n",
              "  </div>\n",
              "  "
            ]
          },
          "metadata": {},
          "execution_count": 3
        }
      ]
    },
    {
      "cell_type": "markdown",
      "source": [
        "Every row in data is a transaction with list of items bought together. We need to convert the dataset to List of Lists."
      ],
      "metadata": {
        "id": "rY9w-YG9lUbC"
      }
    },
    {
      "cell_type": "code",
      "source": [
        "transactions = []\n",
        "\n",
        "for index, transaction in market_data.iterrows():\n",
        "    cleaned_transaction = transaction[~transaction.isnull()].tolist()\n",
        "    transactions.append(cleaned_transaction)"
      ],
      "metadata": {
        "id": "PDq1y6yrDxq1"
      },
      "execution_count": 4,
      "outputs": []
    },
    {
      "cell_type": "code",
      "source": [
        "len(transactions)"
      ],
      "metadata": {
        "colab": {
          "base_uri": "https://localhost:8080/"
        },
        "id": "5XOikBeTpEU8",
        "outputId": "6c9da82f-a9d8-4edf-aa4f-7da76ff23c94"
      },
      "execution_count": 5,
      "outputs": [
        {
          "output_type": "execute_result",
          "data": {
            "text/plain": [
              "7501"
            ]
          },
          "metadata": {},
          "execution_count": 5
        }
      ]
    },
    {
      "cell_type": "markdown",
      "source": [
        "Create a list of frequent items using transactions."
      ],
      "metadata": {
        "id": "p5a-OQ4sozUd"
      }
    },
    {
      "cell_type": "code",
      "source": [
        "itemSet = {x for transaction in transactions for x in transaction}"
      ],
      "metadata": {
        "id": "wT5KzvMyD4m-"
      },
      "execution_count": 6,
      "outputs": []
    },
    {
      "cell_type": "code",
      "source": [
        "len(itemSet)"
      ],
      "metadata": {
        "colab": {
          "base_uri": "https://localhost:8080/"
        },
        "id": "fRGKO0C4qpF4",
        "outputId": "e8b4ee7d-b952-4553-d19b-b0cafc2eba3e"
      },
      "execution_count": 7,
      "outputs": [
        {
          "output_type": "execute_result",
          "data": {
            "text/plain": [
              "120"
            ]
          },
          "metadata": {},
          "execution_count": 7
        }
      ]
    },
    {
      "cell_type": "code",
      "source": [
        "sortedItemSet = sorted(itemSet)"
      ],
      "metadata": {
        "id": "0GtcyYoUrRHk"
      },
      "execution_count": 8,
      "outputs": []
    },
    {
      "cell_type": "markdown",
      "source": [
        "Convert itemset to frozen set"
      ],
      "metadata": {
        "id": "eTp9jgmeq4KY"
      }
    },
    {
      "cell_type": "code",
      "source": [
        "uniqueItems = list(map(lambda x: frozenset([x]),sortedItemSet))"
      ],
      "metadata": {
        "id": "P4OsL_Uwq9vQ"
      },
      "execution_count": 9,
      "outputs": []
    },
    {
      "cell_type": "code",
      "source": [
        "uniqueItems"
      ],
      "metadata": {
        "colab": {
          "base_uri": "https://localhost:8080/"
        },
        "id": "dTtpOrEHyHZb",
        "outputId": "49f15aa4-5fd8-41c6-d110-addb4a72ad1c"
      },
      "execution_count": 10,
      "outputs": [
        {
          "output_type": "execute_result",
          "data": {
            "text/plain": [
              "[frozenset({' asparagus'}),\n",
              " frozenset({'almonds'}),\n",
              " frozenset({'antioxydant juice'}),\n",
              " frozenset({'asparagus'}),\n",
              " frozenset({'avocado'}),\n",
              " frozenset({'babies food'}),\n",
              " frozenset({'bacon'}),\n",
              " frozenset({'barbecue sauce'}),\n",
              " frozenset({'black tea'}),\n",
              " frozenset({'blueberries'}),\n",
              " frozenset({'body spray'}),\n",
              " frozenset({'bramble'}),\n",
              " frozenset({'brownies'}),\n",
              " frozenset({'bug spray'}),\n",
              " frozenset({'burger sauce'}),\n",
              " frozenset({'burgers'}),\n",
              " frozenset({'butter'}),\n",
              " frozenset({'cake'}),\n",
              " frozenset({'candy bars'}),\n",
              " frozenset({'carrots'}),\n",
              " frozenset({'cauliflower'}),\n",
              " frozenset({'cereals'}),\n",
              " frozenset({'champagne'}),\n",
              " frozenset({'chicken'}),\n",
              " frozenset({'chili'}),\n",
              " frozenset({'chocolate'}),\n",
              " frozenset({'chocolate bread'}),\n",
              " frozenset({'chutney'}),\n",
              " frozenset({'cider'}),\n",
              " frozenset({'clothes accessories'}),\n",
              " frozenset({'cookies'}),\n",
              " frozenset({'cooking oil'}),\n",
              " frozenset({'corn'}),\n",
              " frozenset({'cottage cheese'}),\n",
              " frozenset({'cream'}),\n",
              " frozenset({'dessert wine'}),\n",
              " frozenset({'eggplant'}),\n",
              " frozenset({'eggs'}),\n",
              " frozenset({'energy bar'}),\n",
              " frozenset({'energy drink'}),\n",
              " frozenset({'escalope'}),\n",
              " frozenset({'extra dark chocolate'}),\n",
              " frozenset({'flax seed'}),\n",
              " frozenset({'french fries'}),\n",
              " frozenset({'french wine'}),\n",
              " frozenset({'fresh bread'}),\n",
              " frozenset({'fresh tuna'}),\n",
              " frozenset({'fromage blanc'}),\n",
              " frozenset({'frozen smoothie'}),\n",
              " frozenset({'frozen vegetables'}),\n",
              " frozenset({'gluten free bar'}),\n",
              " frozenset({'grated cheese'}),\n",
              " frozenset({'green beans'}),\n",
              " frozenset({'green grapes'}),\n",
              " frozenset({'green tea'}),\n",
              " frozenset({'ground beef'}),\n",
              " frozenset({'gums'}),\n",
              " frozenset({'ham'}),\n",
              " frozenset({'hand protein bar'}),\n",
              " frozenset({'herb & pepper'}),\n",
              " frozenset({'honey'}),\n",
              " frozenset({'hot dogs'}),\n",
              " frozenset({'ketchup'}),\n",
              " frozenset({'light cream'}),\n",
              " frozenset({'light mayo'}),\n",
              " frozenset({'low fat yogurt'}),\n",
              " frozenset({'magazines'}),\n",
              " frozenset({'mashed potato'}),\n",
              " frozenset({'mayonnaise'}),\n",
              " frozenset({'meatballs'}),\n",
              " frozenset({'melons'}),\n",
              " frozenset({'milk'}),\n",
              " frozenset({'mineral water'}),\n",
              " frozenset({'mint'}),\n",
              " frozenset({'mint green tea'}),\n",
              " frozenset({'muffins'}),\n",
              " frozenset({'mushroom cream sauce'}),\n",
              " frozenset({'napkins'}),\n",
              " frozenset({'nonfat milk'}),\n",
              " frozenset({'oatmeal'}),\n",
              " frozenset({'oil'}),\n",
              " frozenset({'olive oil'}),\n",
              " frozenset({'pancakes'}),\n",
              " frozenset({'parmesan cheese'}),\n",
              " frozenset({'pasta'}),\n",
              " frozenset({'pepper'}),\n",
              " frozenset({'pet food'}),\n",
              " frozenset({'pickles'}),\n",
              " frozenset({'protein bar'}),\n",
              " frozenset({'red wine'}),\n",
              " frozenset({'rice'}),\n",
              " frozenset({'salad'}),\n",
              " frozenset({'salmon'}),\n",
              " frozenset({'salt'}),\n",
              " frozenset({'sandwich'}),\n",
              " frozenset({'shallot'}),\n",
              " frozenset({'shampoo'}),\n",
              " frozenset({'shrimp'}),\n",
              " frozenset({'soda'}),\n",
              " frozenset({'soup'}),\n",
              " frozenset({'spaghetti'}),\n",
              " frozenset({'sparkling water'}),\n",
              " frozenset({'spinach'}),\n",
              " frozenset({'strawberries'}),\n",
              " frozenset({'strong cheese'}),\n",
              " frozenset({'tea'}),\n",
              " frozenset({'tomato juice'}),\n",
              " frozenset({'tomato sauce'}),\n",
              " frozenset({'tomatoes'}),\n",
              " frozenset({'toothpaste'}),\n",
              " frozenset({'turkey'}),\n",
              " frozenset({'vegetables mix'}),\n",
              " frozenset({'water spray'}),\n",
              " frozenset({'white wine'}),\n",
              " frozenset({'whole weat flour'}),\n",
              " frozenset({'whole wheat pasta'}),\n",
              " frozenset({'whole wheat rice'}),\n",
              " frozenset({'yams'}),\n",
              " frozenset({'yogurt cake'}),\n",
              " frozenset({'zucchini'})]"
            ]
          },
          "metadata": {},
          "execution_count": 10
        }
      ]
    },
    {
      "cell_type": "markdown",
      "source": [
        "Define function to calculate frequentDataSet and a map with frequent item and value as support value. Support value will be calculate as (count of the item)/(length of complete dataset)"
      ],
      "metadata": {
        "id": "gfoi1-djyKg5"
      }
    },
    {
      "cell_type": "code",
      "source": [
        "def createCountDict (dataSet, itemList):\n",
        "  countDict = {}\n",
        "  for item in itemList:\n",
        "    for data in dataSet:\n",
        "      if item.issubset(data):\n",
        "        if item not in countDict:\n",
        "          countDict[item] = 1\n",
        "        else:\n",
        "          countDict[item] = countDict[item] + 1\n",
        "  return countDict\n",
        "\n",
        "def frequentItemSet (dataSet, itemList, supportValue) :\n",
        "  frequentItems = []\n",
        "  supportDict = {}\n",
        "  countDict = createCountDict(dataSet, itemList)\n",
        "  totalTransaction = len(dataSet)\n",
        "  for item in itemList:\n",
        "    supportVal = countDict[item]/totalTransaction\n",
        "    if supportVal >= supportValue:\n",
        "      supportDict[item] = supportVal\n",
        "      frequentItems.append(item)\n",
        "  return frequentItems, supportDict"
      ],
      "metadata": {
        "id": "wW2mcVCL0C1K"
      },
      "execution_count": 11,
      "outputs": []
    },
    {
      "cell_type": "markdown",
      "source": [
        "Call function on the data set"
      ],
      "metadata": {
        "id": "WRkusPhjovY5"
      }
    },
    {
      "cell_type": "code",
      "source": [
        "frequentItems, supportDict = frequentItemSet(transactions, uniqueItems, 0.1)"
      ],
      "metadata": {
        "id": "jxSzwo-ypBwP"
      },
      "execution_count": 12,
      "outputs": []
    },
    {
      "cell_type": "code",
      "source": [
        "frequentItems"
      ],
      "metadata": {
        "colab": {
          "base_uri": "https://localhost:8080/"
        },
        "id": "hz-JsY0qpfU8",
        "outputId": "6beaef65-e497-469e-84c6-f559d8278566"
      },
      "execution_count": 13,
      "outputs": [
        {
          "output_type": "execute_result",
          "data": {
            "text/plain": [
              "[frozenset({'chocolate'}),\n",
              " frozenset({'eggs'}),\n",
              " frozenset({'french fries'}),\n",
              " frozenset({'green tea'}),\n",
              " frozenset({'milk'}),\n",
              " frozenset({'mineral water'}),\n",
              " frozenset({'spaghetti'})]"
            ]
          },
          "metadata": {},
          "execution_count": 13
        }
      ]
    },
    {
      "cell_type": "code",
      "source": [
        "supportDict"
      ],
      "metadata": {
        "colab": {
          "base_uri": "https://localhost:8080/"
        },
        "id": "R-csNYkEpial",
        "outputId": "88335008-63cf-4c9f-9ddd-985e953e2279"
      },
      "execution_count": 14,
      "outputs": [
        {
          "output_type": "execute_result",
          "data": {
            "text/plain": [
              "{frozenset({'chocolate'}): 0.1638448206905746,\n",
              " frozenset({'eggs'}): 0.17970937208372217,\n",
              " frozenset({'french fries'}): 0.1709105452606319,\n",
              " frozenset({'green tea'}): 0.13211571790427942,\n",
              " frozenset({'milk'}): 0.12958272230369283,\n",
              " frozenset({'mineral water'}): 0.23836821757099053,\n",
              " frozenset({'spaghetti'}): 0.17411011865084655}"
            ]
          },
          "metadata": {},
          "execution_count": 14
        }
      ]
    },
    {
      "cell_type": "markdown",
      "source": [
        "## Generate high order frequent items\n",
        "Now we need to create high order item combinations like {Milk,Bread}, {Milk, Bread, Butter}. Here order is number of items in combination.\n",
        "\n",
        "Item will combined only if they have order-1 number of common elements. So {Milk, Bread} and {Milk, Tea} can be combined to form a higher order combination as they have {Milk} in common so 3 order item set can be  {Milk, Bread, Tea}. Similarly {Milk, Bread, Butter} and {Milk, Bread, Tea} be combined to form {Milk, Bread, Butter, Tea}. But {Milk, Bread} and {Tea, Toast} cannot be combined.\n",
        "\n",
        "Keeping the items sorted helps in eliminating duplicates, {Bread, Butter, Milk} and {Bread, Milk, spaghetti} will not be combined to form 4th order item sets as they should have 2 common elements but order is also important so {Bread, Butter} does not match with {Bread, Milk}.\n",
        "\n",
        "So in the code below we are taking subset of list till k-2 where k is order of the frequent item we need to generate. Current set length would be of length k-1 and number of common item length should be of (k-1)-1."
      ],
      "metadata": {
        "id": "WMmugxx2z3aH"
      }
    },
    {
      "cell_type": "code",
      "source": [
        "def createHigherOrderItemSet(itemset, k):\n",
        "  highOrderDataSet = []\n",
        "  # looping over itemset and comparing each element with other elements\n",
        "  for i in range(len(itemset)):\n",
        "    for j in range(i+1, len(itemset)):\n",
        "      #fetch the list of elements that should be common\n",
        "      l1 = sorted(list(itemset[i]))[:k-2]\n",
        "      l2 = sorted(list(itemset[j]))[:k-2]\n",
        "      #if lists are same append the union in highOrderDataSet\n",
        "      if l1 == l2:\n",
        "        highOrderDataSet.append(itemset[i] | itemset[j])\n",
        "  return highOrderDataSet"
      ],
      "metadata": {
        "id": "PNoize_Oz3GD"
      },
      "execution_count": 30,
      "outputs": []
    },
    {
      "cell_type": "code",
      "source": [
        "secondOrder = createHigherOrderItemSet(frequentItems,2)\n",
        "secondOrder"
      ],
      "metadata": {
        "colab": {
          "base_uri": "https://localhost:8080/"
        },
        "id": "5Xr1fVyiz2U4",
        "outputId": "0d311f86-e165-4761-fa4e-123b8b1b5160"
      },
      "execution_count": 33,
      "outputs": [
        {
          "output_type": "execute_result",
          "data": {
            "text/plain": [
              "[frozenset({'chocolate', 'eggs'}),\n",
              " frozenset({'chocolate', 'french fries'}),\n",
              " frozenset({'chocolate', 'green tea'}),\n",
              " frozenset({'chocolate', 'milk'}),\n",
              " frozenset({'chocolate', 'mineral water'}),\n",
              " frozenset({'chocolate', 'spaghetti'}),\n",
              " frozenset({'eggs', 'french fries'}),\n",
              " frozenset({'eggs', 'green tea'}),\n",
              " frozenset({'eggs', 'milk'}),\n",
              " frozenset({'eggs', 'mineral water'}),\n",
              " frozenset({'eggs', 'spaghetti'}),\n",
              " frozenset({'french fries', 'green tea'}),\n",
              " frozenset({'french fries', 'milk'}),\n",
              " frozenset({'french fries', 'mineral water'}),\n",
              " frozenset({'french fries', 'spaghetti'}),\n",
              " frozenset({'green tea', 'milk'}),\n",
              " frozenset({'green tea', 'mineral water'}),\n",
              " frozenset({'green tea', 'spaghetti'}),\n",
              " frozenset({'milk', 'mineral water'}),\n",
              " frozenset({'milk', 'spaghetti'}),\n",
              " frozenset({'mineral water', 'spaghetti'})]"
            ]
          },
          "metadata": {},
          "execution_count": 33
        }
      ]
    },
    {
      "cell_type": "code",
      "source": [
        "createHigherOrderItemSet(secondOrder,3)"
      ],
      "metadata": {
        "colab": {
          "base_uri": "https://localhost:8080/"
        },
        "id": "foyu42DE4qiq",
        "outputId": "c55d1d0c-a835-467c-f0f8-2c2ab44bf9cc"
      },
      "execution_count": 32,
      "outputs": [
        {
          "output_type": "execute_result",
          "data": {
            "text/plain": [
              "[frozenset({'chocolate', 'eggs', 'french fries'}),\n",
              " frozenset({'chocolate', 'eggs', 'green tea'}),\n",
              " frozenset({'chocolate', 'eggs', 'milk'}),\n",
              " frozenset({'chocolate', 'eggs', 'mineral water'}),\n",
              " frozenset({'chocolate', 'eggs', 'spaghetti'}),\n",
              " frozenset({'chocolate', 'french fries', 'green tea'}),\n",
              " frozenset({'chocolate', 'french fries', 'milk'}),\n",
              " frozenset({'chocolate', 'french fries', 'mineral water'}),\n",
              " frozenset({'chocolate', 'french fries', 'spaghetti'}),\n",
              " frozenset({'chocolate', 'green tea', 'milk'}),\n",
              " frozenset({'chocolate', 'green tea', 'mineral water'}),\n",
              " frozenset({'chocolate', 'green tea', 'spaghetti'}),\n",
              " frozenset({'chocolate', 'milk', 'mineral water'}),\n",
              " frozenset({'chocolate', 'milk', 'spaghetti'}),\n",
              " frozenset({'chocolate', 'mineral water', 'spaghetti'}),\n",
              " frozenset({'eggs', 'french fries', 'green tea'}),\n",
              " frozenset({'eggs', 'french fries', 'milk'}),\n",
              " frozenset({'eggs', 'french fries', 'mineral water'}),\n",
              " frozenset({'eggs', 'french fries', 'spaghetti'}),\n",
              " frozenset({'eggs', 'green tea', 'milk'}),\n",
              " frozenset({'eggs', 'green tea', 'mineral water'}),\n",
              " frozenset({'eggs', 'green tea', 'spaghetti'}),\n",
              " frozenset({'eggs', 'milk', 'mineral water'}),\n",
              " frozenset({'eggs', 'milk', 'spaghetti'}),\n",
              " frozenset({'eggs', 'mineral water', 'spaghetti'}),\n",
              " frozenset({'french fries', 'green tea', 'milk'}),\n",
              " frozenset({'french fries', 'green tea', 'mineral water'}),\n",
              " frozenset({'french fries', 'green tea', 'spaghetti'}),\n",
              " frozenset({'french fries', 'milk', 'mineral water'}),\n",
              " frozenset({'french fries', 'milk', 'spaghetti'}),\n",
              " frozenset({'french fries', 'mineral water', 'spaghetti'}),\n",
              " frozenset({'green tea', 'milk', 'mineral water'}),\n",
              " frozenset({'green tea', 'milk', 'spaghetti'}),\n",
              " frozenset({'green tea', 'mineral water', 'spaghetti'}),\n",
              " frozenset({'milk', 'mineral water', 'spaghetti'})]"
            ]
          },
          "metadata": {},
          "execution_count": 32
        }
      ]
    }
  ]
}