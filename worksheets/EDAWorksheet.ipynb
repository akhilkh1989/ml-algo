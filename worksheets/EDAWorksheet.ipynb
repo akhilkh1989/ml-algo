{
  "nbformat": 4,
  "nbformat_minor": 0,
  "metadata": {
    "colab": {
      "name": "EDAWorksheet.ipynb",
      "provenance": []
    },
    "kernelspec": {
      "name": "python3",
      "display_name": "Python 3"
    },
    "language_info": {
      "name": "python"
    }
  },
  "cells": [
    {
      "cell_type": "markdown",
      "source": [
        "# EDA worksheet"
      ],
      "metadata": {
        "id": "2bD58SSgHKJT"
      }
    },
    {
      "cell_type": "markdown",
      "source": [
        "####Reading Data set"
      ],
      "metadata": {
        "id": "gDZR0v4qIE_0"
      }
    },
    {
      "cell_type": "code",
      "source": [
        "import pandas as pd\n",
        "import numpy as np\n",
        "dress_attr_df = pd.read_csv('Attribute+DataSet.csv')\n",
        "dress_sales_df = pd.read_csv('Dress+Sales.csv')"
      ],
      "metadata": {
        "id": "eZIVuihoH9LL"
      },
      "execution_count": 1,
      "outputs": []
    },
    {
      "cell_type": "code",
      "source": [
        "#Explore data set\n",
        "dress_attr_df"
      ],
      "metadata": {
        "colab": {
          "base_uri": "https://localhost:8080/",
          "height": 467
        },
        "id": "wajjSs52LDOk",
        "outputId": "7ac024dc-86e9-439f-f9d3-916bed3c0d33"
      },
      "execution_count": 2,
      "outputs": [
        {
          "output_type": "execute_result",
          "data": {
            "text/plain": [
              "       Dress_ID    Style    Price  Rating  Size  Season   NeckLine  \\\n",
              "0    1006032852     Sexy      Low     4.6     M  Summer     o-neck   \n",
              "1    1212192089   Casual      Low     0.0     L  Summer     o-neck   \n",
              "2    1190380701  vintage     High     0.0     L  Automn     o-neck   \n",
              "3     966005983    Brief  Average     4.6     L  Spring     o-neck   \n",
              "4     876339541     cute      Low     4.5     M  Summer     o-neck   \n",
              "..          ...      ...      ...     ...   ...     ...        ...   \n",
              "474   990559192    Brief  Average     4.7     M  winter     o-neck   \n",
              "475   713391965   Casual      Low     4.7     M  Spring     o-neck   \n",
              "476   532874347   Casual  Average     4.7     M  Summer     v-neck   \n",
              "477   655464934   Casual  Average     4.6     L  winter  boat-neck   \n",
              "478   919930954   Casual      Low     4.4  free  Summer     v-neck   \n",
              "\n",
              "    SleeveLength       Material  FabricType  Decoration Pattern Type  \\\n",
              "0      sleevless            NaN     chiffon     ruffles       animal   \n",
              "1          Petal     microfiber         NaN     ruffles       animal   \n",
              "2           full       polyster         NaN         NaN        print   \n",
              "3           full           silk     chiffon  embroidary        print   \n",
              "4      butterfly  chiffonfabric     chiffon         bow          dot   \n",
              "..           ...            ...         ...         ...          ...   \n",
              "474   halfsleeve        acrylic     chiffon         NaN      striped   \n",
              "475         full       polyster         NaN         NaN        solid   \n",
              "476         full         cotton         NaN        lace        solid   \n",
              "477    sleevless           silk  broadcloth    applique        print   \n",
              "478        short         cotton    Corduroy        lace        solid   \n",
              "\n",
              "     Recommendation  \n",
              "0                 1  \n",
              "1                 0  \n",
              "2                 0  \n",
              "3                 1  \n",
              "4                 0  \n",
              "..              ...  \n",
              "474               0  \n",
              "475               1  \n",
              "476               1  \n",
              "477               1  \n",
              "478               0  \n",
              "\n",
              "[479 rows x 13 columns]"
            ],
            "text/html": [
              "\n",
              "  <div id=\"df-cb548b00-ce6c-4168-bbf7-eba4d6a40b14\">\n",
              "    <div class=\"colab-df-container\">\n",
              "      <div>\n",
              "<style scoped>\n",
              "    .dataframe tbody tr th:only-of-type {\n",
              "        vertical-align: middle;\n",
              "    }\n",
              "\n",
              "    .dataframe tbody tr th {\n",
              "        vertical-align: top;\n",
              "    }\n",
              "\n",
              "    .dataframe thead th {\n",
              "        text-align: right;\n",
              "    }\n",
              "</style>\n",
              "<table border=\"1\" class=\"dataframe\">\n",
              "  <thead>\n",
              "    <tr style=\"text-align: right;\">\n",
              "      <th></th>\n",
              "      <th>Dress_ID</th>\n",
              "      <th>Style</th>\n",
              "      <th>Price</th>\n",
              "      <th>Rating</th>\n",
              "      <th>Size</th>\n",
              "      <th>Season</th>\n",
              "      <th>NeckLine</th>\n",
              "      <th>SleeveLength</th>\n",
              "      <th>Material</th>\n",
              "      <th>FabricType</th>\n",
              "      <th>Decoration</th>\n",
              "      <th>Pattern Type</th>\n",
              "      <th>Recommendation</th>\n",
              "    </tr>\n",
              "  </thead>\n",
              "  <tbody>\n",
              "    <tr>\n",
              "      <th>0</th>\n",
              "      <td>1006032852</td>\n",
              "      <td>Sexy</td>\n",
              "      <td>Low</td>\n",
              "      <td>4.6</td>\n",
              "      <td>M</td>\n",
              "      <td>Summer</td>\n",
              "      <td>o-neck</td>\n",
              "      <td>sleevless</td>\n",
              "      <td>NaN</td>\n",
              "      <td>chiffon</td>\n",
              "      <td>ruffles</td>\n",
              "      <td>animal</td>\n",
              "      <td>1</td>\n",
              "    </tr>\n",
              "    <tr>\n",
              "      <th>1</th>\n",
              "      <td>1212192089</td>\n",
              "      <td>Casual</td>\n",
              "      <td>Low</td>\n",
              "      <td>0.0</td>\n",
              "      <td>L</td>\n",
              "      <td>Summer</td>\n",
              "      <td>o-neck</td>\n",
              "      <td>Petal</td>\n",
              "      <td>microfiber</td>\n",
              "      <td>NaN</td>\n",
              "      <td>ruffles</td>\n",
              "      <td>animal</td>\n",
              "      <td>0</td>\n",
              "    </tr>\n",
              "    <tr>\n",
              "      <th>2</th>\n",
              "      <td>1190380701</td>\n",
              "      <td>vintage</td>\n",
              "      <td>High</td>\n",
              "      <td>0.0</td>\n",
              "      <td>L</td>\n",
              "      <td>Automn</td>\n",
              "      <td>o-neck</td>\n",
              "      <td>full</td>\n",
              "      <td>polyster</td>\n",
              "      <td>NaN</td>\n",
              "      <td>NaN</td>\n",
              "      <td>print</td>\n",
              "      <td>0</td>\n",
              "    </tr>\n",
              "    <tr>\n",
              "      <th>3</th>\n",
              "      <td>966005983</td>\n",
              "      <td>Brief</td>\n",
              "      <td>Average</td>\n",
              "      <td>4.6</td>\n",
              "      <td>L</td>\n",
              "      <td>Spring</td>\n",
              "      <td>o-neck</td>\n",
              "      <td>full</td>\n",
              "      <td>silk</td>\n",
              "      <td>chiffon</td>\n",
              "      <td>embroidary</td>\n",
              "      <td>print</td>\n",
              "      <td>1</td>\n",
              "    </tr>\n",
              "    <tr>\n",
              "      <th>4</th>\n",
              "      <td>876339541</td>\n",
              "      <td>cute</td>\n",
              "      <td>Low</td>\n",
              "      <td>4.5</td>\n",
              "      <td>M</td>\n",
              "      <td>Summer</td>\n",
              "      <td>o-neck</td>\n",
              "      <td>butterfly</td>\n",
              "      <td>chiffonfabric</td>\n",
              "      <td>chiffon</td>\n",
              "      <td>bow</td>\n",
              "      <td>dot</td>\n",
              "      <td>0</td>\n",
              "    </tr>\n",
              "    <tr>\n",
              "      <th>...</th>\n",
              "      <td>...</td>\n",
              "      <td>...</td>\n",
              "      <td>...</td>\n",
              "      <td>...</td>\n",
              "      <td>...</td>\n",
              "      <td>...</td>\n",
              "      <td>...</td>\n",
              "      <td>...</td>\n",
              "      <td>...</td>\n",
              "      <td>...</td>\n",
              "      <td>...</td>\n",
              "      <td>...</td>\n",
              "      <td>...</td>\n",
              "    </tr>\n",
              "    <tr>\n",
              "      <th>474</th>\n",
              "      <td>990559192</td>\n",
              "      <td>Brief</td>\n",
              "      <td>Average</td>\n",
              "      <td>4.7</td>\n",
              "      <td>M</td>\n",
              "      <td>winter</td>\n",
              "      <td>o-neck</td>\n",
              "      <td>halfsleeve</td>\n",
              "      <td>acrylic</td>\n",
              "      <td>chiffon</td>\n",
              "      <td>NaN</td>\n",
              "      <td>striped</td>\n",
              "      <td>0</td>\n",
              "    </tr>\n",
              "    <tr>\n",
              "      <th>475</th>\n",
              "      <td>713391965</td>\n",
              "      <td>Casual</td>\n",
              "      <td>Low</td>\n",
              "      <td>4.7</td>\n",
              "      <td>M</td>\n",
              "      <td>Spring</td>\n",
              "      <td>o-neck</td>\n",
              "      <td>full</td>\n",
              "      <td>polyster</td>\n",
              "      <td>NaN</td>\n",
              "      <td>NaN</td>\n",
              "      <td>solid</td>\n",
              "      <td>1</td>\n",
              "    </tr>\n",
              "    <tr>\n",
              "      <th>476</th>\n",
              "      <td>532874347</td>\n",
              "      <td>Casual</td>\n",
              "      <td>Average</td>\n",
              "      <td>4.7</td>\n",
              "      <td>M</td>\n",
              "      <td>Summer</td>\n",
              "      <td>v-neck</td>\n",
              "      <td>full</td>\n",
              "      <td>cotton</td>\n",
              "      <td>NaN</td>\n",
              "      <td>lace</td>\n",
              "      <td>solid</td>\n",
              "      <td>1</td>\n",
              "    </tr>\n",
              "    <tr>\n",
              "      <th>477</th>\n",
              "      <td>655464934</td>\n",
              "      <td>Casual</td>\n",
              "      <td>Average</td>\n",
              "      <td>4.6</td>\n",
              "      <td>L</td>\n",
              "      <td>winter</td>\n",
              "      <td>boat-neck</td>\n",
              "      <td>sleevless</td>\n",
              "      <td>silk</td>\n",
              "      <td>broadcloth</td>\n",
              "      <td>applique</td>\n",
              "      <td>print</td>\n",
              "      <td>1</td>\n",
              "    </tr>\n",
              "    <tr>\n",
              "      <th>478</th>\n",
              "      <td>919930954</td>\n",
              "      <td>Casual</td>\n",
              "      <td>Low</td>\n",
              "      <td>4.4</td>\n",
              "      <td>free</td>\n",
              "      <td>Summer</td>\n",
              "      <td>v-neck</td>\n",
              "      <td>short</td>\n",
              "      <td>cotton</td>\n",
              "      <td>Corduroy</td>\n",
              "      <td>lace</td>\n",
              "      <td>solid</td>\n",
              "      <td>0</td>\n",
              "    </tr>\n",
              "  </tbody>\n",
              "</table>\n",
              "<p>479 rows × 13 columns</p>\n",
              "</div>\n",
              "      <button class=\"colab-df-convert\" onclick=\"convertToInteractive('df-cb548b00-ce6c-4168-bbf7-eba4d6a40b14')\"\n",
              "              title=\"Convert this dataframe to an interactive table.\"\n",
              "              style=\"display:none;\">\n",
              "        \n",
              "  <svg xmlns=\"http://www.w3.org/2000/svg\" height=\"24px\"viewBox=\"0 0 24 24\"\n",
              "       width=\"24px\">\n",
              "    <path d=\"M0 0h24v24H0V0z\" fill=\"none\"/>\n",
              "    <path d=\"M18.56 5.44l.94 2.06.94-2.06 2.06-.94-2.06-.94-.94-2.06-.94 2.06-2.06.94zm-11 1L8.5 8.5l.94-2.06 2.06-.94-2.06-.94L8.5 2.5l-.94 2.06-2.06.94zm10 10l.94 2.06.94-2.06 2.06-.94-2.06-.94-.94-2.06-.94 2.06-2.06.94z\"/><path d=\"M17.41 7.96l-1.37-1.37c-.4-.4-.92-.59-1.43-.59-.52 0-1.04.2-1.43.59L10.3 9.45l-7.72 7.72c-.78.78-.78 2.05 0 2.83L4 21.41c.39.39.9.59 1.41.59.51 0 1.02-.2 1.41-.59l7.78-7.78 2.81-2.81c.8-.78.8-2.07 0-2.86zM5.41 20L4 18.59l7.72-7.72 1.47 1.35L5.41 20z\"/>\n",
              "  </svg>\n",
              "      </button>\n",
              "      \n",
              "  <style>\n",
              "    .colab-df-container {\n",
              "      display:flex;\n",
              "      flex-wrap:wrap;\n",
              "      gap: 12px;\n",
              "    }\n",
              "\n",
              "    .colab-df-convert {\n",
              "      background-color: #E8F0FE;\n",
              "      border: none;\n",
              "      border-radius: 50%;\n",
              "      cursor: pointer;\n",
              "      display: none;\n",
              "      fill: #1967D2;\n",
              "      height: 32px;\n",
              "      padding: 0 0 0 0;\n",
              "      width: 32px;\n",
              "    }\n",
              "\n",
              "    .colab-df-convert:hover {\n",
              "      background-color: #E2EBFA;\n",
              "      box-shadow: 0px 1px 2px rgba(60, 64, 67, 0.3), 0px 1px 3px 1px rgba(60, 64, 67, 0.15);\n",
              "      fill: #174EA6;\n",
              "    }\n",
              "\n",
              "    [theme=dark] .colab-df-convert {\n",
              "      background-color: #3B4455;\n",
              "      fill: #D2E3FC;\n",
              "    }\n",
              "\n",
              "    [theme=dark] .colab-df-convert:hover {\n",
              "      background-color: #434B5C;\n",
              "      box-shadow: 0px 1px 3px 1px rgba(0, 0, 0, 0.15);\n",
              "      filter: drop-shadow(0px 1px 2px rgba(0, 0, 0, 0.3));\n",
              "      fill: #FFFFFF;\n",
              "    }\n",
              "  </style>\n",
              "\n",
              "      <script>\n",
              "        const buttonEl =\n",
              "          document.querySelector('#df-cb548b00-ce6c-4168-bbf7-eba4d6a40b14 button.colab-df-convert');\n",
              "        buttonEl.style.display =\n",
              "          google.colab.kernel.accessAllowed ? 'block' : 'none';\n",
              "\n",
              "        async function convertToInteractive(key) {\n",
              "          const element = document.querySelector('#df-cb548b00-ce6c-4168-bbf7-eba4d6a40b14');\n",
              "          const dataTable =\n",
              "            await google.colab.kernel.invokeFunction('convertToInteractive',\n",
              "                                                     [key], {});\n",
              "          if (!dataTable) return;\n",
              "\n",
              "          const docLinkHtml = 'Like what you see? Visit the ' +\n",
              "            '<a target=\"_blank\" href=https://colab.research.google.com/notebooks/data_table.ipynb>data table notebook</a>'\n",
              "            + ' to learn more about interactive tables.';\n",
              "          element.innerHTML = '';\n",
              "          dataTable['output_type'] = 'display_data';\n",
              "          await google.colab.output.renderOutput(dataTable, element);\n",
              "          const docLink = document.createElement('div');\n",
              "          docLink.innerHTML = docLinkHtml;\n",
              "          element.appendChild(docLink);\n",
              "        }\n",
              "      </script>\n",
              "    </div>\n",
              "  </div>\n",
              "  "
            ]
          },
          "metadata": {},
          "execution_count": 2
        }
      ]
    },
    {
      "cell_type": "markdown",
      "source": [
        "####Question 1:\n",
        "Check Price attribute"
      ],
      "metadata": {
        "id": "3GpRTUrVLMfC"
      }
    },
    {
      "cell_type": "code",
      "source": [
        "dress_attr_df[\"Price\"].describe()"
      ],
      "metadata": {
        "colab": {
          "base_uri": "https://localhost:8080/"
        },
        "id": "fiIQ6si-LWyB",
        "outputId": "c9a56c4e-cf71-40de-e87b-c63b89ad06ba"
      },
      "execution_count": 3,
      "outputs": [
        {
          "output_type": "execute_result",
          "data": {
            "text/plain": [
              "count         477\n",
              "unique          5\n",
              "top       Average\n",
              "freq          240\n",
              "Name: Price, dtype: object"
            ]
          },
          "metadata": {},
          "execution_count": 3
        }
      ]
    },
    {
      "cell_type": "code",
      "source": [
        "dress_attr_df[\"Price\"].value_counts()"
      ],
      "metadata": {
        "colab": {
          "base_uri": "https://localhost:8080/"
        },
        "id": "uV4o7igzIubG",
        "outputId": "4303f461-f32c-47dc-9dfe-1533174a7706"
      },
      "execution_count": 4,
      "outputs": [
        {
          "output_type": "execute_result",
          "data": {
            "text/plain": [
              "Average      240\n",
              "Low          165\n",
              "Medium        30\n",
              "High          21\n",
              "very-high     21\n",
              "Name: Price, dtype: int64"
            ]
          },
          "metadata": {},
          "execution_count": 4
        }
      ]
    },
    {
      "cell_type": "markdown",
      "source": [
        "As seen from the output of describe command dtype is object and by doing value_counts the values can be Low, Average, Medium, High, Very-High which have a order in them. So the data is categorical and Ordinal. For more information refer to below link:\n",
        "https://www.saedsayad.com/categorical_variables.htm#:~:text=There%20are%20two%20types%20of,variable%20has%20a%20clear%20ordering."
      ],
      "metadata": {
        "id": "9e427hHSLfs_"
      }
    },
    {
      "cell_type": "markdown",
      "source": [
        "####Question 2:\n",
        "There is another column in the 'Attribute Dataset' named 'Recommendation'; choose the correct statement for its data type and variable type from those given below.\n",
        "\n",
        "Check 'Recommendation' attribute"
      ],
      "metadata": {
        "id": "kWqjslxFMVAk"
      }
    },
    {
      "cell_type": "code",
      "source": [
        "dress_attr_df[\"Recommendation\"].describe()"
      ],
      "metadata": {
        "colab": {
          "base_uri": "https://localhost:8080/"
        },
        "id": "T0hF3gIGMius",
        "outputId": "2d8b64f6-6654-4dc6-b9d2-b42d7e4832ed"
      },
      "execution_count": 5,
      "outputs": [
        {
          "output_type": "execute_result",
          "data": {
            "text/plain": [
              "count    479.000000\n",
              "mean       0.427975\n",
              "std        0.495302\n",
              "min        0.000000\n",
              "25%        0.000000\n",
              "50%        0.000000\n",
              "75%        1.000000\n",
              "max        1.000000\n",
              "Name: Recommendation, dtype: float64"
            ]
          },
          "metadata": {},
          "execution_count": 5
        }
      ]
    },
    {
      "cell_type": "code",
      "source": [
        "dress_attr_df[\"Recommendation\"]"
      ],
      "metadata": {
        "colab": {
          "base_uri": "https://localhost:8080/"
        },
        "id": "KOMmXoLLMqtr",
        "outputId": "88e3f27c-c4a4-498d-bbfd-38ec4981984f"
      },
      "execution_count": 6,
      "outputs": [
        {
          "output_type": "execute_result",
          "data": {
            "text/plain": [
              "0      1\n",
              "1      0\n",
              "2      0\n",
              "3      1\n",
              "4      0\n",
              "      ..\n",
              "474    0\n",
              "475    1\n",
              "476    1\n",
              "477    1\n",
              "478    0\n",
              "Name: Recommendation, Length: 479, dtype: int64"
            ]
          },
          "metadata": {},
          "execution_count": 6
        }
      ]
    },
    {
      "cell_type": "code",
      "source": [
        "dress_attr_df[\"Recommendation\"].value_counts()"
      ],
      "metadata": {
        "colab": {
          "base_uri": "https://localhost:8080/"
        },
        "id": "SKRm5d9HMuSX",
        "outputId": "f0869aa0-3b52-46e2-9c36-1a09784dbb3f"
      },
      "execution_count": 7,
      "outputs": [
        {
          "output_type": "execute_result",
          "data": {
            "text/plain": [
              "0    274\n",
              "1    205\n",
              "Name: Recommendation, dtype: int64"
            ]
          },
          "metadata": {},
          "execution_count": 7
        }
      ]
    },
    {
      "cell_type": "markdown",
      "source": [
        "As mentioned in text, the field contains either 0 or 1. 0 meaning No and 1 meaning Yes. So the data looks categorical and as confirmed from describe and value_counts commands the data type is int. So it can be considered as Integer type and categorical."
      ],
      "metadata": {
        "id": "IJ4zVG0bNHCi"
      }
    },
    {
      "cell_type": "markdown",
      "source": [
        "######Feedback\n",
        "Answer is correct, but a handy command to check dtype of dataset is info"
      ],
      "metadata": {
        "id": "XGYD7zJlN_sR"
      }
    },
    {
      "cell_type": "code",
      "source": [
        "dress_attr_df.info()"
      ],
      "metadata": {
        "colab": {
          "base_uri": "https://localhost:8080/"
        },
        "id": "NDsOAFnvNwRf",
        "outputId": "428f9ac4-07c1-41e7-e6ae-d5c467937f3e"
      },
      "execution_count": 8,
      "outputs": [
        {
          "output_type": "stream",
          "name": "stdout",
          "text": [
            "<class 'pandas.core.frame.DataFrame'>\n",
            "RangeIndex: 479 entries, 0 to 478\n",
            "Data columns (total 13 columns):\n",
            " #   Column          Non-Null Count  Dtype  \n",
            "---  ------          --------------  -----  \n",
            " 0   Dress_ID        479 non-null    int64  \n",
            " 1   Style           479 non-null    object \n",
            " 2   Price           477 non-null    object \n",
            " 3   Rating          479 non-null    float64\n",
            " 4   Size            479 non-null    object \n",
            " 5   Season          477 non-null    object \n",
            " 6   NeckLine        476 non-null    object \n",
            " 7   SleeveLength    477 non-null    object \n",
            " 8   Material        360 non-null    object \n",
            " 9   FabricType      223 non-null    object \n",
            " 10  Decoration      255 non-null    object \n",
            " 11  Pattern Type    377 non-null    object \n",
            " 12  Recommendation  479 non-null    int64  \n",
            "dtypes: float64(1), int64(2), object(10)\n",
            "memory usage: 48.8+ KB\n"
          ]
        }
      ]
    },
    {
      "cell_type": "markdown",
      "source": [
        "####Question 3:\n",
        "Which of the following column do you think are of no use in “Attribute DataSet”.\n",
        "All the columns look important initially, Dress id seems not important but this might be required to join or merge to get sales data. So my answer would be None of these."
      ],
      "metadata": {
        "id": "EepIRcMeOTym"
      }
    },
    {
      "cell_type": "markdown",
      "source": [
        "######Feedback\n",
        "Answer is correct"
      ],
      "metadata": {
        "id": "46hHKnTIQMJe"
      }
    },
    {
      "cell_type": "markdown",
      "source": [
        "####Question 4:\n",
        "As you can see, there is a column in the Attribute Dataset named 'Size’. This column contains the values in an abbreviated format. Write a code in Python to convert the following:\n",
        "\n",
        "M into “Medium”\n",
        "\n",
        "L into “Large”\n",
        "\n",
        "XL into “Extra large”\n",
        "\n",
        "Free into “Free”\n",
        "\n",
        "S, s and small into “Small”\n",
        "\n",
        "Once you are done with the changes in the dataset, calculate the value of the lowest percentage, the highest percentage and the percentage of 'Small' size categories in the column named 'Size', respectively.\n",
        "\n"
      ],
      "metadata": {
        "id": "BfIe-reeUg7Z"
      }
    },
    {
      "cell_type": "markdown",
      "source": [
        "Check the values in Size column of the dataset."
      ],
      "metadata": {
        "id": "7DOcPcSLVcSy"
      }
    },
    {
      "cell_type": "code",
      "source": [
        "dress_attr_df[\"Size\"].value_counts()"
      ],
      "metadata": {
        "colab": {
          "base_uri": "https://localhost:8080/"
        },
        "id": "-F1Ah2w6U4pv",
        "outputId": "98d53bb7-c964-499c-e75f-ef8cee12fede"
      },
      "execution_count": 9,
      "outputs": [
        {
          "output_type": "execute_result",
          "data": {
            "text/plain": [
              "M        171\n",
              "free     165\n",
              "L         93\n",
              "S         34\n",
              "XL        14\n",
              "small      1\n",
              "s          1\n",
              "Name: Size, dtype: int64"
            ]
          },
          "metadata": {},
          "execution_count": 9
        }
      ]
    },
    {
      "cell_type": "markdown",
      "source": [
        "Define function to make the conversion"
      ],
      "metadata": {
        "id": "ENIkXrvoVz7C"
      }
    },
    {
      "cell_type": "code",
      "source": [
        "def getProperSizeLabels(x):\n",
        "  if x.upper() == \"M\":\n",
        "    return \"Medium\"\n",
        "  elif x.upper() == \"L\":\n",
        "    return \"Large\"\n",
        "  elif x.upper() == \"XL\":\n",
        "    return \"Extra large\"\n",
        "  elif x.upper() == \"FREE\":\n",
        "    return \"Free\"\n",
        "  elif x.upper() == \"SMALL\" or x.upper() == \"S\":\n",
        "    return \"Small\"\n"
      ],
      "metadata": {
        "id": "a7sCw5ILVzeG"
      },
      "execution_count": 10,
      "outputs": []
    },
    {
      "cell_type": "code",
      "source": [
        "#create a copy to keep original data set safe\n",
        "attr = dress_attr_df.copy()"
      ],
      "metadata": {
        "id": "MaHvitFQXWJU"
      },
      "execution_count": 11,
      "outputs": []
    },
    {
      "cell_type": "code",
      "source": [
        "attr[\"Size\"] = attr[\"Size\"].apply(lambda x: getProperSizeLabels(x))"
      ],
      "metadata": {
        "id": "2bcGELGaVnLk"
      },
      "execution_count": 12,
      "outputs": []
    },
    {
      "cell_type": "code",
      "source": [
        "#Get percentage\n",
        "attr[\"Size\"].value_counts(normalize=True)"
      ],
      "metadata": {
        "colab": {
          "base_uri": "https://localhost:8080/"
        },
        "id": "HqK1lBFPXm1V",
        "outputId": "12954baf-c00c-443a-baa5-5a99ad99d9c9"
      },
      "execution_count": 13,
      "outputs": [
        {
          "output_type": "execute_result",
          "data": {
            "text/plain": [
              "Medium         0.356994\n",
              "Free           0.344468\n",
              "Large          0.194154\n",
              "Small          0.075157\n",
              "Extra large    0.029228\n",
              "Name: Size, dtype: float64"
            ]
          },
          "metadata": {},
          "execution_count": 13
        }
      ]
    },
    {
      "cell_type": "markdown",
      "source": [
        "So the lowest percentage is 2.92\n",
        "highest percentage is 35.69\n",
        "Percentage of small size is 7.51"
      ],
      "metadata": {
        "id": "aBDqwoxiYXHD"
      }
    },
    {
      "cell_type": "markdown",
      "source": [
        "######Feedback\n",
        "Answer is correct\n",
        "But solution suggested is given below"
      ],
      "metadata": {
        "id": "MaxCHInTYok2"
      }
    },
    {
      "cell_type": "code",
      "source": [
        "attr.Size= attr.Size.replace(['S', 'small', 's'], \"Small\")\n",
        "\n",
        "attr.Size= attr.Size.replace('free', \"Free\")\n",
        "\n",
        "attr.Size= attr.Size.replace('M', \"Medium\")\n",
        "\n",
        "attr.Size= attr.Size.replace('L', \"Large\") \n",
        "\n",
        "attr.Size= attr.Size.replace('XL', \"Extra large\")\n",
        "\n",
        "attr.Size.value_counts(normalize=True)\n"
      ],
      "metadata": {
        "colab": {
          "base_uri": "https://localhost:8080/"
        },
        "id": "pbsjVDQgZCS_",
        "outputId": "e2d10384-e67b-49e5-efb3-b955a4ff18a9"
      },
      "execution_count": 14,
      "outputs": [
        {
          "output_type": "execute_result",
          "data": {
            "text/plain": [
              "Medium         0.356994\n",
              "Free           0.344468\n",
              "Large          0.194154\n",
              "Small          0.075157\n",
              "Extra large    0.029228\n",
              "Name: Size, dtype: float64"
            ]
          },
          "metadata": {},
          "execution_count": 14
        }
      ]
    },
    {
      "cell_type": "markdown",
      "source": [
        "####Question 5:\n",
        "Impute/Remove Missing Values\n",
        "You are given another dataset named 'Dress Sales Dataset'. Now, if you observe the data types of the columns using the ‘inp1.info()’ command, you will see that there are certain columns defined as object data type, although they primarily consist of numeric data.\n",
        "\n",
        "Now, if you try and convert these object data type columns into numeric data type (float), you will come across an error message. From the options given below, choose the correct option with the reason for the error and also how to remove this error."
      ],
      "metadata": {
        "id": "E5TYRwAEv7-x"
      }
    },
    {
      "cell_type": "markdown",
      "source": [
        "Check the sales dataset"
      ],
      "metadata": {
        "id": "X9k75eWGwQNb"
      }
    },
    {
      "cell_type": "code",
      "source": [
        "dress_sales_df.head(10)"
      ],
      "metadata": {
        "colab": {
          "base_uri": "https://localhost:8080/",
          "height": 471
        },
        "id": "tVIThMFexSmX",
        "outputId": "850381da-d7d9-4726-f5b4-36a1c45b4770"
      },
      "execution_count": 15,
      "outputs": [
        {
          "output_type": "execute_result",
          "data": {
            "text/plain": [
              "       Dress_ID  29-08-2013  31-08-2013  09-02-2013  09-04-2013  09-06-2013  \\\n",
              "0  1.006033e+09        2114        2274        2491        2660        2727   \n",
              "1  1.212192e+09         151         275         570         750         813   \n",
              "2  1.190381e+09           6           7           7           7           8   \n",
              "3  9.660060e+08        1005        1128        1326        1455        1507   \n",
              "4  8.763395e+08         996        1175        1304        1396        1432   \n",
              "5  1.068332e+09           4           5          11          13          13   \n",
              "6  1.220707e+09          45          61         131         165         176   \n",
              "7  1.219677e+09           4          13          55          73          76   \n",
              "8  1.113094e+09           5           6          10          12          13   \n",
              "9  9.852927e+08           9          11          12          12          12   \n",
              "\n",
              "   09-08-2013  09-10-2013 09-12-2013 14-09-2013  ... 24-09-2013 26-09-2013  \\\n",
              "0        2887        2930       3119       3204  ...       3554     3624.0   \n",
              "1        1066        1164       1558       1756  ...       2710     2942.0   \n",
              "2           8           9         10         10  ...         11       11.0   \n",
              "3        1621        1637       1723       1746  ...       1878     1892.0   \n",
              "4        1559        1570       1638       1655  ...       2032     2156.0   \n",
              "5          13          16         18         19  ...         25       25.0   \n",
              "6         209         216        251        262  ...        379      400.0   \n",
              "7          89          94        117        121  ...        160      165.0   \n",
              "8          15          16         17         17  ...         27       28.0   \n",
              "9          12          12         13         13  ...         14       14.0   \n",
              "\n",
              "  28-09-2013 30-09-2013  10-02-2013  10-04-2013  10-06-2013  10-08-2013  \\\n",
              "0       3706     3746.0      3795.0      3832.0        3897      3923.0   \n",
              "1       3258     3354.0      3475.0      3654.0        3911      4024.0   \n",
              "2         11       11.0        11.0        11.0          11        11.0   \n",
              "3       1914     1924.0      1929.0      1941.0        1952      1955.0   \n",
              "4       2252     2312.0      2387.0      2459.0        2544      2614.0   \n",
              "5         26       26.0        26.0        26.0          27        27.0   \n",
              "6        417      424.0       445.0       462.0         474       494.0   \n",
              "7        169      172.0       196.0       212.0         224       241.0   \n",
              "8         29       29.0        29.0        29.0          29        29.0   \n",
              "9         14       14.0        14.0        14.0          14        14.0   \n",
              "\n",
              "   10-10-2013  10-12-2013  \n",
              "0      3985.0        4048  \n",
              "1      4125.0        4277  \n",
              "2        11.0          11  \n",
              "3      1959.0        1963  \n",
              "4      2693.0        2736  \n",
              "5        27.0          27  \n",
              "6       503.0         552  \n",
              "7       252.0         263  \n",
              "8        29.0          33  \n",
              "9        14.0          14  \n",
              "\n",
              "[10 rows x 24 columns]"
            ],
            "text/html": [
              "\n",
              "  <div id=\"df-dab4b846-2487-4524-8fe7-f2671bdd1589\">\n",
              "    <div class=\"colab-df-container\">\n",
              "      <div>\n",
              "<style scoped>\n",
              "    .dataframe tbody tr th:only-of-type {\n",
              "        vertical-align: middle;\n",
              "    }\n",
              "\n",
              "    .dataframe tbody tr th {\n",
              "        vertical-align: top;\n",
              "    }\n",
              "\n",
              "    .dataframe thead th {\n",
              "        text-align: right;\n",
              "    }\n",
              "</style>\n",
              "<table border=\"1\" class=\"dataframe\">\n",
              "  <thead>\n",
              "    <tr style=\"text-align: right;\">\n",
              "      <th></th>\n",
              "      <th>Dress_ID</th>\n",
              "      <th>29-08-2013</th>\n",
              "      <th>31-08-2013</th>\n",
              "      <th>09-02-2013</th>\n",
              "      <th>09-04-2013</th>\n",
              "      <th>09-06-2013</th>\n",
              "      <th>09-08-2013</th>\n",
              "      <th>09-10-2013</th>\n",
              "      <th>09-12-2013</th>\n",
              "      <th>14-09-2013</th>\n",
              "      <th>...</th>\n",
              "      <th>24-09-2013</th>\n",
              "      <th>26-09-2013</th>\n",
              "      <th>28-09-2013</th>\n",
              "      <th>30-09-2013</th>\n",
              "      <th>10-02-2013</th>\n",
              "      <th>10-04-2013</th>\n",
              "      <th>10-06-2013</th>\n",
              "      <th>10-08-2013</th>\n",
              "      <th>10-10-2013</th>\n",
              "      <th>10-12-2013</th>\n",
              "    </tr>\n",
              "  </thead>\n",
              "  <tbody>\n",
              "    <tr>\n",
              "      <th>0</th>\n",
              "      <td>1.006033e+09</td>\n",
              "      <td>2114</td>\n",
              "      <td>2274</td>\n",
              "      <td>2491</td>\n",
              "      <td>2660</td>\n",
              "      <td>2727</td>\n",
              "      <td>2887</td>\n",
              "      <td>2930</td>\n",
              "      <td>3119</td>\n",
              "      <td>3204</td>\n",
              "      <td>...</td>\n",
              "      <td>3554</td>\n",
              "      <td>3624.0</td>\n",
              "      <td>3706</td>\n",
              "      <td>3746.0</td>\n",
              "      <td>3795.0</td>\n",
              "      <td>3832.0</td>\n",
              "      <td>3897</td>\n",
              "      <td>3923.0</td>\n",
              "      <td>3985.0</td>\n",
              "      <td>4048</td>\n",
              "    </tr>\n",
              "    <tr>\n",
              "      <th>1</th>\n",
              "      <td>1.212192e+09</td>\n",
              "      <td>151</td>\n",
              "      <td>275</td>\n",
              "      <td>570</td>\n",
              "      <td>750</td>\n",
              "      <td>813</td>\n",
              "      <td>1066</td>\n",
              "      <td>1164</td>\n",
              "      <td>1558</td>\n",
              "      <td>1756</td>\n",
              "      <td>...</td>\n",
              "      <td>2710</td>\n",
              "      <td>2942.0</td>\n",
              "      <td>3258</td>\n",
              "      <td>3354.0</td>\n",
              "      <td>3475.0</td>\n",
              "      <td>3654.0</td>\n",
              "      <td>3911</td>\n",
              "      <td>4024.0</td>\n",
              "      <td>4125.0</td>\n",
              "      <td>4277</td>\n",
              "    </tr>\n",
              "    <tr>\n",
              "      <th>2</th>\n",
              "      <td>1.190381e+09</td>\n",
              "      <td>6</td>\n",
              "      <td>7</td>\n",
              "      <td>7</td>\n",
              "      <td>7</td>\n",
              "      <td>8</td>\n",
              "      <td>8</td>\n",
              "      <td>9</td>\n",
              "      <td>10</td>\n",
              "      <td>10</td>\n",
              "      <td>...</td>\n",
              "      <td>11</td>\n",
              "      <td>11.0</td>\n",
              "      <td>11</td>\n",
              "      <td>11.0</td>\n",
              "      <td>11.0</td>\n",
              "      <td>11.0</td>\n",
              "      <td>11</td>\n",
              "      <td>11.0</td>\n",
              "      <td>11.0</td>\n",
              "      <td>11</td>\n",
              "    </tr>\n",
              "    <tr>\n",
              "      <th>3</th>\n",
              "      <td>9.660060e+08</td>\n",
              "      <td>1005</td>\n",
              "      <td>1128</td>\n",
              "      <td>1326</td>\n",
              "      <td>1455</td>\n",
              "      <td>1507</td>\n",
              "      <td>1621</td>\n",
              "      <td>1637</td>\n",
              "      <td>1723</td>\n",
              "      <td>1746</td>\n",
              "      <td>...</td>\n",
              "      <td>1878</td>\n",
              "      <td>1892.0</td>\n",
              "      <td>1914</td>\n",
              "      <td>1924.0</td>\n",
              "      <td>1929.0</td>\n",
              "      <td>1941.0</td>\n",
              "      <td>1952</td>\n",
              "      <td>1955.0</td>\n",
              "      <td>1959.0</td>\n",
              "      <td>1963</td>\n",
              "    </tr>\n",
              "    <tr>\n",
              "      <th>4</th>\n",
              "      <td>8.763395e+08</td>\n",
              "      <td>996</td>\n",
              "      <td>1175</td>\n",
              "      <td>1304</td>\n",
              "      <td>1396</td>\n",
              "      <td>1432</td>\n",
              "      <td>1559</td>\n",
              "      <td>1570</td>\n",
              "      <td>1638</td>\n",
              "      <td>1655</td>\n",
              "      <td>...</td>\n",
              "      <td>2032</td>\n",
              "      <td>2156.0</td>\n",
              "      <td>2252</td>\n",
              "      <td>2312.0</td>\n",
              "      <td>2387.0</td>\n",
              "      <td>2459.0</td>\n",
              "      <td>2544</td>\n",
              "      <td>2614.0</td>\n",
              "      <td>2693.0</td>\n",
              "      <td>2736</td>\n",
              "    </tr>\n",
              "    <tr>\n",
              "      <th>5</th>\n",
              "      <td>1.068332e+09</td>\n",
              "      <td>4</td>\n",
              "      <td>5</td>\n",
              "      <td>11</td>\n",
              "      <td>13</td>\n",
              "      <td>13</td>\n",
              "      <td>13</td>\n",
              "      <td>16</td>\n",
              "      <td>18</td>\n",
              "      <td>19</td>\n",
              "      <td>...</td>\n",
              "      <td>25</td>\n",
              "      <td>25.0</td>\n",
              "      <td>26</td>\n",
              "      <td>26.0</td>\n",
              "      <td>26.0</td>\n",
              "      <td>26.0</td>\n",
              "      <td>27</td>\n",
              "      <td>27.0</td>\n",
              "      <td>27.0</td>\n",
              "      <td>27</td>\n",
              "    </tr>\n",
              "    <tr>\n",
              "      <th>6</th>\n",
              "      <td>1.220707e+09</td>\n",
              "      <td>45</td>\n",
              "      <td>61</td>\n",
              "      <td>131</td>\n",
              "      <td>165</td>\n",
              "      <td>176</td>\n",
              "      <td>209</td>\n",
              "      <td>216</td>\n",
              "      <td>251</td>\n",
              "      <td>262</td>\n",
              "      <td>...</td>\n",
              "      <td>379</td>\n",
              "      <td>400.0</td>\n",
              "      <td>417</td>\n",
              "      <td>424.0</td>\n",
              "      <td>445.0</td>\n",
              "      <td>462.0</td>\n",
              "      <td>474</td>\n",
              "      <td>494.0</td>\n",
              "      <td>503.0</td>\n",
              "      <td>552</td>\n",
              "    </tr>\n",
              "    <tr>\n",
              "      <th>7</th>\n",
              "      <td>1.219677e+09</td>\n",
              "      <td>4</td>\n",
              "      <td>13</td>\n",
              "      <td>55</td>\n",
              "      <td>73</td>\n",
              "      <td>76</td>\n",
              "      <td>89</td>\n",
              "      <td>94</td>\n",
              "      <td>117</td>\n",
              "      <td>121</td>\n",
              "      <td>...</td>\n",
              "      <td>160</td>\n",
              "      <td>165.0</td>\n",
              "      <td>169</td>\n",
              "      <td>172.0</td>\n",
              "      <td>196.0</td>\n",
              "      <td>212.0</td>\n",
              "      <td>224</td>\n",
              "      <td>241.0</td>\n",
              "      <td>252.0</td>\n",
              "      <td>263</td>\n",
              "    </tr>\n",
              "    <tr>\n",
              "      <th>8</th>\n",
              "      <td>1.113094e+09</td>\n",
              "      <td>5</td>\n",
              "      <td>6</td>\n",
              "      <td>10</td>\n",
              "      <td>12</td>\n",
              "      <td>13</td>\n",
              "      <td>15</td>\n",
              "      <td>16</td>\n",
              "      <td>17</td>\n",
              "      <td>17</td>\n",
              "      <td>...</td>\n",
              "      <td>27</td>\n",
              "      <td>28.0</td>\n",
              "      <td>29</td>\n",
              "      <td>29.0</td>\n",
              "      <td>29.0</td>\n",
              "      <td>29.0</td>\n",
              "      <td>29</td>\n",
              "      <td>29.0</td>\n",
              "      <td>29.0</td>\n",
              "      <td>33</td>\n",
              "    </tr>\n",
              "    <tr>\n",
              "      <th>9</th>\n",
              "      <td>9.852927e+08</td>\n",
              "      <td>9</td>\n",
              "      <td>11</td>\n",
              "      <td>12</td>\n",
              "      <td>12</td>\n",
              "      <td>12</td>\n",
              "      <td>12</td>\n",
              "      <td>12</td>\n",
              "      <td>13</td>\n",
              "      <td>13</td>\n",
              "      <td>...</td>\n",
              "      <td>14</td>\n",
              "      <td>14.0</td>\n",
              "      <td>14</td>\n",
              "      <td>14.0</td>\n",
              "      <td>14.0</td>\n",
              "      <td>14.0</td>\n",
              "      <td>14</td>\n",
              "      <td>14.0</td>\n",
              "      <td>14.0</td>\n",
              "      <td>14</td>\n",
              "    </tr>\n",
              "  </tbody>\n",
              "</table>\n",
              "<p>10 rows × 24 columns</p>\n",
              "</div>\n",
              "      <button class=\"colab-df-convert\" onclick=\"convertToInteractive('df-dab4b846-2487-4524-8fe7-f2671bdd1589')\"\n",
              "              title=\"Convert this dataframe to an interactive table.\"\n",
              "              style=\"display:none;\">\n",
              "        \n",
              "  <svg xmlns=\"http://www.w3.org/2000/svg\" height=\"24px\"viewBox=\"0 0 24 24\"\n",
              "       width=\"24px\">\n",
              "    <path d=\"M0 0h24v24H0V0z\" fill=\"none\"/>\n",
              "    <path d=\"M18.56 5.44l.94 2.06.94-2.06 2.06-.94-2.06-.94-.94-2.06-.94 2.06-2.06.94zm-11 1L8.5 8.5l.94-2.06 2.06-.94-2.06-.94L8.5 2.5l-.94 2.06-2.06.94zm10 10l.94 2.06.94-2.06 2.06-.94-2.06-.94-.94-2.06-.94 2.06-2.06.94z\"/><path d=\"M17.41 7.96l-1.37-1.37c-.4-.4-.92-.59-1.43-.59-.52 0-1.04.2-1.43.59L10.3 9.45l-7.72 7.72c-.78.78-.78 2.05 0 2.83L4 21.41c.39.39.9.59 1.41.59.51 0 1.02-.2 1.41-.59l7.78-7.78 2.81-2.81c.8-.78.8-2.07 0-2.86zM5.41 20L4 18.59l7.72-7.72 1.47 1.35L5.41 20z\"/>\n",
              "  </svg>\n",
              "      </button>\n",
              "      \n",
              "  <style>\n",
              "    .colab-df-container {\n",
              "      display:flex;\n",
              "      flex-wrap:wrap;\n",
              "      gap: 12px;\n",
              "    }\n",
              "\n",
              "    .colab-df-convert {\n",
              "      background-color: #E8F0FE;\n",
              "      border: none;\n",
              "      border-radius: 50%;\n",
              "      cursor: pointer;\n",
              "      display: none;\n",
              "      fill: #1967D2;\n",
              "      height: 32px;\n",
              "      padding: 0 0 0 0;\n",
              "      width: 32px;\n",
              "    }\n",
              "\n",
              "    .colab-df-convert:hover {\n",
              "      background-color: #E2EBFA;\n",
              "      box-shadow: 0px 1px 2px rgba(60, 64, 67, 0.3), 0px 1px 3px 1px rgba(60, 64, 67, 0.15);\n",
              "      fill: #174EA6;\n",
              "    }\n",
              "\n",
              "    [theme=dark] .colab-df-convert {\n",
              "      background-color: #3B4455;\n",
              "      fill: #D2E3FC;\n",
              "    }\n",
              "\n",
              "    [theme=dark] .colab-df-convert:hover {\n",
              "      background-color: #434B5C;\n",
              "      box-shadow: 0px 1px 3px 1px rgba(0, 0, 0, 0.15);\n",
              "      filter: drop-shadow(0px 1px 2px rgba(0, 0, 0, 0.3));\n",
              "      fill: #FFFFFF;\n",
              "    }\n",
              "  </style>\n",
              "\n",
              "      <script>\n",
              "        const buttonEl =\n",
              "          document.querySelector('#df-dab4b846-2487-4524-8fe7-f2671bdd1589 button.colab-df-convert');\n",
              "        buttonEl.style.display =\n",
              "          google.colab.kernel.accessAllowed ? 'block' : 'none';\n",
              "\n",
              "        async function convertToInteractive(key) {\n",
              "          const element = document.querySelector('#df-dab4b846-2487-4524-8fe7-f2671bdd1589');\n",
              "          const dataTable =\n",
              "            await google.colab.kernel.invokeFunction('convertToInteractive',\n",
              "                                                     [key], {});\n",
              "          if (!dataTable) return;\n",
              "\n",
              "          const docLinkHtml = 'Like what you see? Visit the ' +\n",
              "            '<a target=\"_blank\" href=https://colab.research.google.com/notebooks/data_table.ipynb>data table notebook</a>'\n",
              "            + ' to learn more about interactive tables.';\n",
              "          element.innerHTML = '';\n",
              "          dataTable['output_type'] = 'display_data';\n",
              "          await google.colab.output.renderOutput(dataTable, element);\n",
              "          const docLink = document.createElement('div');\n",
              "          docLink.innerHTML = docLinkHtml;\n",
              "          element.appendChild(docLink);\n",
              "        }\n",
              "      </script>\n",
              "    </div>\n",
              "  </div>\n",
              "  "
            ]
          },
          "metadata": {},
          "execution_count": 15
        }
      ]
    },
    {
      "cell_type": "code",
      "source": [
        "dress_sales_df.info()"
      ],
      "metadata": {
        "colab": {
          "base_uri": "https://localhost:8080/"
        },
        "id": "eNiI5YSCwUxe",
        "outputId": "e26b02e1-2ef6-4e72-806f-65c99f54ae04"
      },
      "execution_count": 16,
      "outputs": [
        {
          "output_type": "stream",
          "name": "stdout",
          "text": [
            "<class 'pandas.core.frame.DataFrame'>\n",
            "RangeIndex: 479 entries, 0 to 478\n",
            "Data columns (total 24 columns):\n",
            " #   Column      Non-Null Count  Dtype  \n",
            "---  ------      --------------  -----  \n",
            " 0   Dress_ID    479 non-null    float64\n",
            " 1   29-08-2013  479 non-null    int64  \n",
            " 2   31-08-2013  479 non-null    int64  \n",
            " 3   09-02-2013  479 non-null    int64  \n",
            " 4   09-04-2013  479 non-null    int64  \n",
            " 5   09-06-2013  479 non-null    int64  \n",
            " 6   09-08-2013  479 non-null    int64  \n",
            " 7   09-10-2013  479 non-null    int64  \n",
            " 8   09-12-2013  479 non-null    object \n",
            " 9   14-09-2013  479 non-null    object \n",
            " 10  16-09-2013  479 non-null    object \n",
            " 11  18-09-2013  479 non-null    object \n",
            " 12  20-09-2013  479 non-null    object \n",
            " 13  22-09-2013  479 non-null    object \n",
            " 14  24-09-2013  479 non-null    int64  \n",
            " 15  26-09-2013  257 non-null    float64\n",
            " 16  28-09-2013  479 non-null    int64  \n",
            " 17  30-09-2013  222 non-null    float64\n",
            " 18  10-02-2013  220 non-null    float64\n",
            " 19  10-04-2013  221 non-null    float64\n",
            " 20  10-06-2013  479 non-null    int64  \n",
            " 21  10-08-2013  224 non-null    float64\n",
            " 22  10-10-2013  224 non-null    float64\n",
            " 23  10-12-2013  479 non-null    int64  \n",
            "dtypes: float64(7), int64(11), object(6)\n",
            "memory usage: 89.9+ KB\n"
          ]
        }
      ]
    },
    {
      "cell_type": "code",
      "source": [
        "#define a function to check if field is numeric\n",
        "def isNotANumber(x):\n",
        "  try:\n",
        "    float(x)\n",
        "    return False\n",
        "  except ValueError:\n",
        "    return True"
      ],
      "metadata": {
        "id": "2S-xuNes6WhF"
      },
      "execution_count": 17,
      "outputs": []
    },
    {
      "cell_type": "code",
      "source": [
        "dress_sales_df[dress_sales_df[\"16-09-2013\"].apply(lambda x: isNotANumber(x))]\n"
      ],
      "metadata": {
        "colab": {
          "base_uri": "https://localhost:8080/",
          "height": 189
        },
        "id": "xEDkJy4PxpXu",
        "outputId": "080454a1-f7dc-4a75-e206-894748b4b859"
      },
      "execution_count": 18,
      "outputs": [
        {
          "output_type": "execute_result",
          "data": {
            "text/plain": [
              "         Dress_ID  29-08-2013  31-08-2013  09-02-2013  09-04-2013  09-06-2013  \\\n",
              "263  1.090993e+09           0           0           0          62          64   \n",
              "\n",
              "     09-08-2013  09-10-2013 09-12-2013 14-09-2013  ... 24-09-2013 26-09-2013  \\\n",
              "263          77          81    Removed    removed  ...        703        NaN   \n",
              "\n",
              "    28-09-2013 30-09-2013  10-02-2013  10-04-2013  10-06-2013  10-08-2013  \\\n",
              "263        753        NaN         NaN         NaN         956         NaN   \n",
              "\n",
              "     10-10-2013  10-12-2013  \n",
              "263         NaN        1043  \n",
              "\n",
              "[1 rows x 24 columns]"
            ],
            "text/html": [
              "\n",
              "  <div id=\"df-25871e6f-5d29-4933-b50f-92329ef2af33\">\n",
              "    <div class=\"colab-df-container\">\n",
              "      <div>\n",
              "<style scoped>\n",
              "    .dataframe tbody tr th:only-of-type {\n",
              "        vertical-align: middle;\n",
              "    }\n",
              "\n",
              "    .dataframe tbody tr th {\n",
              "        vertical-align: top;\n",
              "    }\n",
              "\n",
              "    .dataframe thead th {\n",
              "        text-align: right;\n",
              "    }\n",
              "</style>\n",
              "<table border=\"1\" class=\"dataframe\">\n",
              "  <thead>\n",
              "    <tr style=\"text-align: right;\">\n",
              "      <th></th>\n",
              "      <th>Dress_ID</th>\n",
              "      <th>29-08-2013</th>\n",
              "      <th>31-08-2013</th>\n",
              "      <th>09-02-2013</th>\n",
              "      <th>09-04-2013</th>\n",
              "      <th>09-06-2013</th>\n",
              "      <th>09-08-2013</th>\n",
              "      <th>09-10-2013</th>\n",
              "      <th>09-12-2013</th>\n",
              "      <th>14-09-2013</th>\n",
              "      <th>...</th>\n",
              "      <th>24-09-2013</th>\n",
              "      <th>26-09-2013</th>\n",
              "      <th>28-09-2013</th>\n",
              "      <th>30-09-2013</th>\n",
              "      <th>10-02-2013</th>\n",
              "      <th>10-04-2013</th>\n",
              "      <th>10-06-2013</th>\n",
              "      <th>10-08-2013</th>\n",
              "      <th>10-10-2013</th>\n",
              "      <th>10-12-2013</th>\n",
              "    </tr>\n",
              "  </thead>\n",
              "  <tbody>\n",
              "    <tr>\n",
              "      <th>263</th>\n",
              "      <td>1.090993e+09</td>\n",
              "      <td>0</td>\n",
              "      <td>0</td>\n",
              "      <td>0</td>\n",
              "      <td>62</td>\n",
              "      <td>64</td>\n",
              "      <td>77</td>\n",
              "      <td>81</td>\n",
              "      <td>Removed</td>\n",
              "      <td>removed</td>\n",
              "      <td>...</td>\n",
              "      <td>703</td>\n",
              "      <td>NaN</td>\n",
              "      <td>753</td>\n",
              "      <td>NaN</td>\n",
              "      <td>NaN</td>\n",
              "      <td>NaN</td>\n",
              "      <td>956</td>\n",
              "      <td>NaN</td>\n",
              "      <td>NaN</td>\n",
              "      <td>1043</td>\n",
              "    </tr>\n",
              "  </tbody>\n",
              "</table>\n",
              "<p>1 rows × 24 columns</p>\n",
              "</div>\n",
              "      <button class=\"colab-df-convert\" onclick=\"convertToInteractive('df-25871e6f-5d29-4933-b50f-92329ef2af33')\"\n",
              "              title=\"Convert this dataframe to an interactive table.\"\n",
              "              style=\"display:none;\">\n",
              "        \n",
              "  <svg xmlns=\"http://www.w3.org/2000/svg\" height=\"24px\"viewBox=\"0 0 24 24\"\n",
              "       width=\"24px\">\n",
              "    <path d=\"M0 0h24v24H0V0z\" fill=\"none\"/>\n",
              "    <path d=\"M18.56 5.44l.94 2.06.94-2.06 2.06-.94-2.06-.94-.94-2.06-.94 2.06-2.06.94zm-11 1L8.5 8.5l.94-2.06 2.06-.94-2.06-.94L8.5 2.5l-.94 2.06-2.06.94zm10 10l.94 2.06.94-2.06 2.06-.94-2.06-.94-.94-2.06-.94 2.06-2.06.94z\"/><path d=\"M17.41 7.96l-1.37-1.37c-.4-.4-.92-.59-1.43-.59-.52 0-1.04.2-1.43.59L10.3 9.45l-7.72 7.72c-.78.78-.78 2.05 0 2.83L4 21.41c.39.39.9.59 1.41.59.51 0 1.02-.2 1.41-.59l7.78-7.78 2.81-2.81c.8-.78.8-2.07 0-2.86zM5.41 20L4 18.59l7.72-7.72 1.47 1.35L5.41 20z\"/>\n",
              "  </svg>\n",
              "      </button>\n",
              "      \n",
              "  <style>\n",
              "    .colab-df-container {\n",
              "      display:flex;\n",
              "      flex-wrap:wrap;\n",
              "      gap: 12px;\n",
              "    }\n",
              "\n",
              "    .colab-df-convert {\n",
              "      background-color: #E8F0FE;\n",
              "      border: none;\n",
              "      border-radius: 50%;\n",
              "      cursor: pointer;\n",
              "      display: none;\n",
              "      fill: #1967D2;\n",
              "      height: 32px;\n",
              "      padding: 0 0 0 0;\n",
              "      width: 32px;\n",
              "    }\n",
              "\n",
              "    .colab-df-convert:hover {\n",
              "      background-color: #E2EBFA;\n",
              "      box-shadow: 0px 1px 2px rgba(60, 64, 67, 0.3), 0px 1px 3px 1px rgba(60, 64, 67, 0.15);\n",
              "      fill: #174EA6;\n",
              "    }\n",
              "\n",
              "    [theme=dark] .colab-df-convert {\n",
              "      background-color: #3B4455;\n",
              "      fill: #D2E3FC;\n",
              "    }\n",
              "\n",
              "    [theme=dark] .colab-df-convert:hover {\n",
              "      background-color: #434B5C;\n",
              "      box-shadow: 0px 1px 3px 1px rgba(0, 0, 0, 0.15);\n",
              "      filter: drop-shadow(0px 1px 2px rgba(0, 0, 0, 0.3));\n",
              "      fill: #FFFFFF;\n",
              "    }\n",
              "  </style>\n",
              "\n",
              "      <script>\n",
              "        const buttonEl =\n",
              "          document.querySelector('#df-25871e6f-5d29-4933-b50f-92329ef2af33 button.colab-df-convert');\n",
              "        buttonEl.style.display =\n",
              "          google.colab.kernel.accessAllowed ? 'block' : 'none';\n",
              "\n",
              "        async function convertToInteractive(key) {\n",
              "          const element = document.querySelector('#df-25871e6f-5d29-4933-b50f-92329ef2af33');\n",
              "          const dataTable =\n",
              "            await google.colab.kernel.invokeFunction('convertToInteractive',\n",
              "                                                     [key], {});\n",
              "          if (!dataTable) return;\n",
              "\n",
              "          const docLinkHtml = 'Like what you see? Visit the ' +\n",
              "            '<a target=\"_blank\" href=https://colab.research.google.com/notebooks/data_table.ipynb>data table notebook</a>'\n",
              "            + ' to learn more about interactive tables.';\n",
              "          element.innerHTML = '';\n",
              "          dataTable['output_type'] = 'display_data';\n",
              "          await google.colab.output.renderOutput(dataTable, element);\n",
              "          const docLink = document.createElement('div');\n",
              "          docLink.innerHTML = docLinkHtml;\n",
              "          element.appendChild(docLink);\n",
              "        }\n",
              "      </script>\n",
              "    </div>\n",
              "  </div>\n",
              "  "
            ]
          },
          "metadata": {},
          "execution_count": 18
        }
      ]
    },
    {
      "cell_type": "code",
      "source": [
        "# Do the required changes in the \"Dress Sales\" data set to get null values on string values.\n",
        "#define a function to conver field to numeric or null\n",
        "def convertFloat(x):\n",
        "  try:\n",
        "    return float(x)\n",
        "  except ValueError:\n",
        "    return None"
      ],
      "metadata": {
        "id": "x2UP8s8s8_1i"
      },
      "execution_count": 19,
      "outputs": []
    },
    {
      "cell_type": "code",
      "source": [
        "df2 = dress_sales_df.copy()\n",
        "df2[[\"09-12-2013\",\"14-09-2013\",\"16-09-2013\",\"18-09-2013\",\"20-09-2013\",\"22-09-2013\"]] = df2[[\"09-12-2013\",\"14-09-2013\",\"16-09-2013\",\"18-09-2013\",\"20-09-2013\",\"22-09-2013\"]].applymap(lambda x: convertFloat(x))\n",
        "df2.info()"
      ],
      "metadata": {
        "colab": {
          "base_uri": "https://localhost:8080/"
        },
        "id": "1EW-PGjc9ujK",
        "outputId": "8cabd64c-10d0-4e74-dd66-01240a854318"
      },
      "execution_count": 20,
      "outputs": [
        {
          "output_type": "stream",
          "name": "stdout",
          "text": [
            "<class 'pandas.core.frame.DataFrame'>\n",
            "RangeIndex: 479 entries, 0 to 478\n",
            "Data columns (total 24 columns):\n",
            " #   Column      Non-Null Count  Dtype  \n",
            "---  ------      --------------  -----  \n",
            " 0   Dress_ID    479 non-null    float64\n",
            " 1   29-08-2013  479 non-null    int64  \n",
            " 2   31-08-2013  479 non-null    int64  \n",
            " 3   09-02-2013  479 non-null    int64  \n",
            " 4   09-04-2013  479 non-null    int64  \n",
            " 5   09-06-2013  479 non-null    int64  \n",
            " 6   09-08-2013  479 non-null    int64  \n",
            " 7   09-10-2013  479 non-null    int64  \n",
            " 8   09-12-2013  478 non-null    float64\n",
            " 9   14-09-2013  478 non-null    float64\n",
            " 10  16-09-2013  478 non-null    float64\n",
            " 11  18-09-2013  478 non-null    float64\n",
            " 12  20-09-2013  478 non-null    float64\n",
            " 13  22-09-2013  478 non-null    float64\n",
            " 14  24-09-2013  479 non-null    int64  \n",
            " 15  26-09-2013  257 non-null    float64\n",
            " 16  28-09-2013  479 non-null    int64  \n",
            " 17  30-09-2013  222 non-null    float64\n",
            " 18  10-02-2013  220 non-null    float64\n",
            " 19  10-04-2013  221 non-null    float64\n",
            " 20  10-06-2013  479 non-null    int64  \n",
            " 21  10-08-2013  224 non-null    float64\n",
            " 22  10-10-2013  224 non-null    float64\n",
            " 23  10-12-2013  479 non-null    int64  \n",
            "dtypes: float64(13), int64(11)\n",
            "memory usage: 89.9 KB\n"
          ]
        }
      ]
    },
    {
      "cell_type": "markdown",
      "source": [
        "####Question 6:\n",
        "When you observe the null counts in the 'Dress Sales Dataset' after performing all the operations that have been mentioned in the Jupyter Notebook, you will find that there are some columns in the 'Dress Sales' dataset where the number of missing values is more than 40%. Based on your understanding of dealing with missing values, select the most appropriate statement from those given below, with the reason."
      ],
      "metadata": {
        "id": "2oGWTyK2wTBo"
      }
    },
    {
      "cell_type": "code",
      "source": [
        "#get null percentage of each column\n",
        "df2.isnull().mean()*100"
      ],
      "metadata": {
        "colab": {
          "base_uri": "https://localhost:8080/"
        },
        "id": "dc-1T7uqQBfH",
        "outputId": "91a48fde-9e33-4858-81e2-bbc8da0512a0"
      },
      "execution_count": 21,
      "outputs": [
        {
          "output_type": "execute_result",
          "data": {
            "text/plain": [
              "Dress_ID       0.000000\n",
              "29-08-2013     0.000000\n",
              "31-08-2013     0.000000\n",
              "09-02-2013     0.000000\n",
              "09-04-2013     0.000000\n",
              "09-06-2013     0.000000\n",
              "09-08-2013     0.000000\n",
              "09-10-2013     0.000000\n",
              "09-12-2013     0.208768\n",
              "14-09-2013     0.208768\n",
              "16-09-2013     0.208768\n",
              "18-09-2013     0.208768\n",
              "20-09-2013     0.208768\n",
              "22-09-2013     0.208768\n",
              "24-09-2013     0.000000\n",
              "26-09-2013    46.346555\n",
              "28-09-2013     0.000000\n",
              "30-09-2013    53.653445\n",
              "10-02-2013    54.070981\n",
              "10-04-2013    53.862213\n",
              "10-06-2013     0.000000\n",
              "10-08-2013    53.235908\n",
              "10-10-2013    53.235908\n",
              "10-12-2013     0.000000\n",
              "dtype: float64"
            ]
          },
          "metadata": {},
          "execution_count": 21
        }
      ]
    },
    {
      "cell_type": "code",
      "source": [
        "#Drop columns with more than 40% null values\n",
        "df2.drop(\"26-09-2013\", axis=1, inplace=True)\n",
        "df2.drop(\"30-09-2013\", axis=1, inplace=True)\n",
        "df2.drop(\"10-02-2013\", axis=1, inplace=True)\n",
        "df2.drop(\"10-04-2013\", axis=1, inplace=True)\n",
        "df2.drop(\"10-08-2013\", axis=1, inplace=True)\n",
        "df2.drop(\"10-10-2013\", axis=1, inplace=True)"
      ],
      "metadata": {
        "id": "PxX8Q25eQ8aY"
      },
      "execution_count": 22,
      "outputs": []
    },
    {
      "cell_type": "code",
      "source": [
        "df2.head()"
      ],
      "metadata": {
        "colab": {
          "base_uri": "https://localhost:8080/",
          "height": 285
        },
        "id": "G0n4CCILR2Oa",
        "outputId": "b12af854-3617-4576-92db-174af33d7c9e"
      },
      "execution_count": 23,
      "outputs": [
        {
          "output_type": "execute_result",
          "data": {
            "text/plain": [
              "       Dress_ID  29-08-2013  31-08-2013  09-02-2013  09-04-2013  09-06-2013  \\\n",
              "0  1.006033e+09        2114        2274        2491        2660        2727   \n",
              "1  1.212192e+09         151         275         570         750         813   \n",
              "2  1.190381e+09           6           7           7           7           8   \n",
              "3  9.660060e+08        1005        1128        1326        1455        1507   \n",
              "4  8.763395e+08         996        1175        1304        1396        1432   \n",
              "\n",
              "   09-08-2013  09-10-2013  09-12-2013  14-09-2013  16-09-2013  18-09-2013  \\\n",
              "0        2887        2930      3119.0      3204.0      3277.0      3321.0   \n",
              "1        1066        1164      1558.0      1756.0      1878.0      1985.0   \n",
              "2           8           9        10.0        10.0        10.0        10.0   \n",
              "3        1621        1637      1723.0      1746.0      1783.0      1796.0   \n",
              "4        1559        1570      1638.0      1655.0      1681.0      1743.0   \n",
              "\n",
              "   20-09-2013  22-09-2013  24-09-2013  28-09-2013  10-06-2013  10-12-2013  \n",
              "0      3386.0      3479.0        3554        3706        3897        4048  \n",
              "1      2106.0      2454.0        2710        3258        3911        4277  \n",
              "2        10.0        11.0          11          11          11          11  \n",
              "3      1812.0      1845.0        1878        1914        1952        1963  \n",
              "4      1824.0      1919.0        2032        2252        2544        2736  "
            ],
            "text/html": [
              "\n",
              "  <div id=\"df-983ebcb0-e312-452c-834f-889eaaf671f1\">\n",
              "    <div class=\"colab-df-container\">\n",
              "      <div>\n",
              "<style scoped>\n",
              "    .dataframe tbody tr th:only-of-type {\n",
              "        vertical-align: middle;\n",
              "    }\n",
              "\n",
              "    .dataframe tbody tr th {\n",
              "        vertical-align: top;\n",
              "    }\n",
              "\n",
              "    .dataframe thead th {\n",
              "        text-align: right;\n",
              "    }\n",
              "</style>\n",
              "<table border=\"1\" class=\"dataframe\">\n",
              "  <thead>\n",
              "    <tr style=\"text-align: right;\">\n",
              "      <th></th>\n",
              "      <th>Dress_ID</th>\n",
              "      <th>29-08-2013</th>\n",
              "      <th>31-08-2013</th>\n",
              "      <th>09-02-2013</th>\n",
              "      <th>09-04-2013</th>\n",
              "      <th>09-06-2013</th>\n",
              "      <th>09-08-2013</th>\n",
              "      <th>09-10-2013</th>\n",
              "      <th>09-12-2013</th>\n",
              "      <th>14-09-2013</th>\n",
              "      <th>16-09-2013</th>\n",
              "      <th>18-09-2013</th>\n",
              "      <th>20-09-2013</th>\n",
              "      <th>22-09-2013</th>\n",
              "      <th>24-09-2013</th>\n",
              "      <th>28-09-2013</th>\n",
              "      <th>10-06-2013</th>\n",
              "      <th>10-12-2013</th>\n",
              "    </tr>\n",
              "  </thead>\n",
              "  <tbody>\n",
              "    <tr>\n",
              "      <th>0</th>\n",
              "      <td>1.006033e+09</td>\n",
              "      <td>2114</td>\n",
              "      <td>2274</td>\n",
              "      <td>2491</td>\n",
              "      <td>2660</td>\n",
              "      <td>2727</td>\n",
              "      <td>2887</td>\n",
              "      <td>2930</td>\n",
              "      <td>3119.0</td>\n",
              "      <td>3204.0</td>\n",
              "      <td>3277.0</td>\n",
              "      <td>3321.0</td>\n",
              "      <td>3386.0</td>\n",
              "      <td>3479.0</td>\n",
              "      <td>3554</td>\n",
              "      <td>3706</td>\n",
              "      <td>3897</td>\n",
              "      <td>4048</td>\n",
              "    </tr>\n",
              "    <tr>\n",
              "      <th>1</th>\n",
              "      <td>1.212192e+09</td>\n",
              "      <td>151</td>\n",
              "      <td>275</td>\n",
              "      <td>570</td>\n",
              "      <td>750</td>\n",
              "      <td>813</td>\n",
              "      <td>1066</td>\n",
              "      <td>1164</td>\n",
              "      <td>1558.0</td>\n",
              "      <td>1756.0</td>\n",
              "      <td>1878.0</td>\n",
              "      <td>1985.0</td>\n",
              "      <td>2106.0</td>\n",
              "      <td>2454.0</td>\n",
              "      <td>2710</td>\n",
              "      <td>3258</td>\n",
              "      <td>3911</td>\n",
              "      <td>4277</td>\n",
              "    </tr>\n",
              "    <tr>\n",
              "      <th>2</th>\n",
              "      <td>1.190381e+09</td>\n",
              "      <td>6</td>\n",
              "      <td>7</td>\n",
              "      <td>7</td>\n",
              "      <td>7</td>\n",
              "      <td>8</td>\n",
              "      <td>8</td>\n",
              "      <td>9</td>\n",
              "      <td>10.0</td>\n",
              "      <td>10.0</td>\n",
              "      <td>10.0</td>\n",
              "      <td>10.0</td>\n",
              "      <td>10.0</td>\n",
              "      <td>11.0</td>\n",
              "      <td>11</td>\n",
              "      <td>11</td>\n",
              "      <td>11</td>\n",
              "      <td>11</td>\n",
              "    </tr>\n",
              "    <tr>\n",
              "      <th>3</th>\n",
              "      <td>9.660060e+08</td>\n",
              "      <td>1005</td>\n",
              "      <td>1128</td>\n",
              "      <td>1326</td>\n",
              "      <td>1455</td>\n",
              "      <td>1507</td>\n",
              "      <td>1621</td>\n",
              "      <td>1637</td>\n",
              "      <td>1723.0</td>\n",
              "      <td>1746.0</td>\n",
              "      <td>1783.0</td>\n",
              "      <td>1796.0</td>\n",
              "      <td>1812.0</td>\n",
              "      <td>1845.0</td>\n",
              "      <td>1878</td>\n",
              "      <td>1914</td>\n",
              "      <td>1952</td>\n",
              "      <td>1963</td>\n",
              "    </tr>\n",
              "    <tr>\n",
              "      <th>4</th>\n",
              "      <td>8.763395e+08</td>\n",
              "      <td>996</td>\n",
              "      <td>1175</td>\n",
              "      <td>1304</td>\n",
              "      <td>1396</td>\n",
              "      <td>1432</td>\n",
              "      <td>1559</td>\n",
              "      <td>1570</td>\n",
              "      <td>1638.0</td>\n",
              "      <td>1655.0</td>\n",
              "      <td>1681.0</td>\n",
              "      <td>1743.0</td>\n",
              "      <td>1824.0</td>\n",
              "      <td>1919.0</td>\n",
              "      <td>2032</td>\n",
              "      <td>2252</td>\n",
              "      <td>2544</td>\n",
              "      <td>2736</td>\n",
              "    </tr>\n",
              "  </tbody>\n",
              "</table>\n",
              "</div>\n",
              "      <button class=\"colab-df-convert\" onclick=\"convertToInteractive('df-983ebcb0-e312-452c-834f-889eaaf671f1')\"\n",
              "              title=\"Convert this dataframe to an interactive table.\"\n",
              "              style=\"display:none;\">\n",
              "        \n",
              "  <svg xmlns=\"http://www.w3.org/2000/svg\" height=\"24px\"viewBox=\"0 0 24 24\"\n",
              "       width=\"24px\">\n",
              "    <path d=\"M0 0h24v24H0V0z\" fill=\"none\"/>\n",
              "    <path d=\"M18.56 5.44l.94 2.06.94-2.06 2.06-.94-2.06-.94-.94-2.06-.94 2.06-2.06.94zm-11 1L8.5 8.5l.94-2.06 2.06-.94-2.06-.94L8.5 2.5l-.94 2.06-2.06.94zm10 10l.94 2.06.94-2.06 2.06-.94-2.06-.94-.94-2.06-.94 2.06-2.06.94z\"/><path d=\"M17.41 7.96l-1.37-1.37c-.4-.4-.92-.59-1.43-.59-.52 0-1.04.2-1.43.59L10.3 9.45l-7.72 7.72c-.78.78-.78 2.05 0 2.83L4 21.41c.39.39.9.59 1.41.59.51 0 1.02-.2 1.41-.59l7.78-7.78 2.81-2.81c.8-.78.8-2.07 0-2.86zM5.41 20L4 18.59l7.72-7.72 1.47 1.35L5.41 20z\"/>\n",
              "  </svg>\n",
              "      </button>\n",
              "      \n",
              "  <style>\n",
              "    .colab-df-container {\n",
              "      display:flex;\n",
              "      flex-wrap:wrap;\n",
              "      gap: 12px;\n",
              "    }\n",
              "\n",
              "    .colab-df-convert {\n",
              "      background-color: #E8F0FE;\n",
              "      border: none;\n",
              "      border-radius: 50%;\n",
              "      cursor: pointer;\n",
              "      display: none;\n",
              "      fill: #1967D2;\n",
              "      height: 32px;\n",
              "      padding: 0 0 0 0;\n",
              "      width: 32px;\n",
              "    }\n",
              "\n",
              "    .colab-df-convert:hover {\n",
              "      background-color: #E2EBFA;\n",
              "      box-shadow: 0px 1px 2px rgba(60, 64, 67, 0.3), 0px 1px 3px 1px rgba(60, 64, 67, 0.15);\n",
              "      fill: #174EA6;\n",
              "    }\n",
              "\n",
              "    [theme=dark] .colab-df-convert {\n",
              "      background-color: #3B4455;\n",
              "      fill: #D2E3FC;\n",
              "    }\n",
              "\n",
              "    [theme=dark] .colab-df-convert:hover {\n",
              "      background-color: #434B5C;\n",
              "      box-shadow: 0px 1px 3px 1px rgba(0, 0, 0, 0.15);\n",
              "      filter: drop-shadow(0px 1px 2px rgba(0, 0, 0, 0.3));\n",
              "      fill: #FFFFFF;\n",
              "    }\n",
              "  </style>\n",
              "\n",
              "      <script>\n",
              "        const buttonEl =\n",
              "          document.querySelector('#df-983ebcb0-e312-452c-834f-889eaaf671f1 button.colab-df-convert');\n",
              "        buttonEl.style.display =\n",
              "          google.colab.kernel.accessAllowed ? 'block' : 'none';\n",
              "\n",
              "        async function convertToInteractive(key) {\n",
              "          const element = document.querySelector('#df-983ebcb0-e312-452c-834f-889eaaf671f1');\n",
              "          const dataTable =\n",
              "            await google.colab.kernel.invokeFunction('convertToInteractive',\n",
              "                                                     [key], {});\n",
              "          if (!dataTable) return;\n",
              "\n",
              "          const docLinkHtml = 'Like what you see? Visit the ' +\n",
              "            '<a target=\"_blank\" href=https://colab.research.google.com/notebooks/data_table.ipynb>data table notebook</a>'\n",
              "            + ' to learn more about interactive tables.';\n",
              "          element.innerHTML = '';\n",
              "          dataTable['output_type'] = 'display_data';\n",
              "          await google.colab.output.renderOutput(dataTable, element);\n",
              "          const docLink = document.createElement('div');\n",
              "          docLink.innerHTML = docLinkHtml;\n",
              "          element.appendChild(docLink);\n",
              "        }\n",
              "      </script>\n",
              "    </div>\n",
              "  </div>\n",
              "  "
            ]
          },
          "metadata": {},
          "execution_count": 23
        }
      ]
    },
    {
      "cell_type": "markdown",
      "source": [
        "######Feedback\n",
        "\n",
        "The huge number of missing values in such columns is one of the criteria, but another major criterion is that these dates have extremely small sales values, and it is safe to remove them."
      ],
      "metadata": {
        "id": "uMC3O8nuTYFY"
      }
    },
    {
      "cell_type": "markdown",
      "source": [
        "####Question 7:\n",
        "You need to categorise the dates into seasons in the 'Dress Sales Dataset' data to simplify the analysis according to the following criteria:\n",
        "\n",
        "June, July and August: Summer\n",
        "\n",
        "September, October and November: Autumn\n",
        "\n",
        "December, January and February: Winter\n",
        "\n",
        "March, April and May: Spring\n",
        "\n",
        "Which of the seasons has the lowest sales among all the seasons, and what is its value?"
      ],
      "metadata": {
        "id": "zbr8aeWpUh3A"
      }
    },
    {
      "cell_type": "code",
      "source": [
        "#Creating Columns as mentioned in question\n",
        "df2[\"Summer\"] = df2[\"29-08-2013\"] + df2[\"31-08-2013\"] + df2[\"09-06-2013\"] + df2[\"09-08-2013\"] + df2[\"10-06-2013\"]\n",
        "df2[\"Autumn\"] = df2[\"09-10-2013\"] + df2[\"14-09-2013\"] + df2[\"16-09-2013\"] + df2[\"18-09-2013\"] + df2[\"20-09-2013\"] + df2[\"22-09-2013\"] + df2[\"24-09-2013\"] + df2[\"28-09-2013\"]\n",
        "df2[\"Winter\"] = df2[\"09-02-2013\"] + df2[\"09-12-2013\"] + df2[\"10-12-2013\"]\n",
        "df2[\"Spring\"] = df2[\"09-04-2013\"]\n"
      ],
      "metadata": {
        "id": "NrN2DDbUZ7xU"
      },
      "execution_count": 24,
      "outputs": []
    },
    {
      "cell_type": "code",
      "source": [
        "df2[[\"Summer\",\"Autumn\",\"Winter\",\"Spring\"]].sum()"
      ],
      "metadata": {
        "colab": {
          "base_uri": "https://localhost:8080/"
        },
        "id": "dbJmsZ52eE2s",
        "outputId": "d3dc45b6-bd6b-4f9d-aca8-e32377cc8ac7"
      },
      "execution_count": null,
      "outputs": [
        {
          "output_type": "execute_result",
          "data": {
            "text/plain": [
              "Summer     691907.0\n",
              "Autumn    1353543.0\n",
              "Winter     473640.0\n",
              "Spring     143600.0\n",
              "dtype: float64"
            ]
          },
          "metadata": {},
          "execution_count": 29
        }
      ]
    },
    {
      "cell_type": "markdown",
      "source": [
        "######Feedback\n",
        "Answer is correct\n",
        "Other way to solve:"
      ],
      "metadata": {
        "id": "IPo-nntDeZer"
      }
    },
    {
      "cell_type": "code",
      "source": [
        "df2['Spring'] = df2.apply(lambda x: x['09-04-2013'], axis=1)\n",
        "\n",
        "df2['Summer'] = df2.apply(lambda x: x['29-08-2013'] + x['31-08-2013']+ x['09-06-2013']+ x['09-08-2013']+ x['10-06-2013'], axis=1)\n",
        "\n",
        "df2['Winter'] = df2.apply(lambda x: x['09-02-2013'] + x['09-12-2013']+ x['10-12-2013'], axis=1)\n",
        "\n",
        "df2['Autumn'] = df2.apply(lambda x: x['09-10-2013'] + x['14-09-2013']+ x['16-09-2013']+ x['18-09-2013']+ x['20-09-2013']+ x['22-09-2013']+ x['24-09-2013']+ x['28-09-2013'], axis=1)"
      ],
      "metadata": {
        "id": "MqK62wWreaDk"
      },
      "execution_count": null,
      "outputs": []
    },
    {
      "cell_type": "markdown",
      "source": [
        "####Question 8\n",
        "You can see that there are two types of variables: One with a large number of missing values and another with a less number of missing values. These two columns can be categorised as follows:\n",
        "\n",
        "Type-1: Missing values are extremely less (around 2 or 3 missing values): Price, Season, NeckLine, SleeveLength, Winter and Autumn\n",
        "\n",
        "Type-2: Missing values are large in number (more than 15%): Material, FabricType, Decoration and Pattern Type\n",
        "\n",
        "Based on your understanding, which is the best method to deal with the missing values in the Type-1 and Type-2 columns?\n",
        "\n"
      ],
      "metadata": {
        "id": "40o6DYWRziGX"
      }
    },
    {
      "cell_type": "markdown",
      "source": [
        "In my opinion, general approach would be to delete rows with type-1 data as it is very less percentage and impute data with type-2 data.\n",
        "\n",
        "But let's first analyze data mentioned in dataframe to make a view of what should be done."
      ],
      "metadata": {
        "id": "-mWBBf8wzqqz"
      }
    },
    {
      "cell_type": "markdown",
      "source": [
        "Question does not seem to clearly state that its talking about deleting columns or rows. Assuming question is talking about deleting such rows."
      ],
      "metadata": {
        "id": "__ni4o4X1UL2"
      }
    },
    {
      "cell_type": "code",
      "source": [
        "attr.isnull().mean()*100"
      ],
      "metadata": {
        "colab": {
          "base_uri": "https://localhost:8080/"
        },
        "id": "eDFzVBHr00jV",
        "outputId": "dc112cd4-0776-4b1c-ab25-a69b3f295488"
      },
      "execution_count": 27,
      "outputs": [
        {
          "output_type": "execute_result",
          "data": {
            "text/plain": [
              "Dress_ID           0.000000\n",
              "Style              0.000000\n",
              "Price              0.417537\n",
              "Rating             0.000000\n",
              "Size               0.000000\n",
              "Season             0.417537\n",
              "NeckLine           0.626305\n",
              "SleeveLength       0.417537\n",
              "Material          24.843424\n",
              "FabricType        53.444676\n",
              "Decoration        46.764092\n",
              "Pattern Type      21.294363\n",
              "Recommendation     0.000000\n",
              "dtype: float64"
            ]
          },
          "metadata": {},
          "execution_count": 27
        }
      ]
    },
    {
      "cell_type": "markdown",
      "source": [
        "As we can see Type2 data cannot be removed as it would result in deleting at least 53% of data. So option 1 is wrong.\n"
      ],
      "metadata": {
        "id": "xavh3dOH2PzM"
      }
    },
    {
      "cell_type": "code",
      "source": [
        "attr[attr[\"FabricType\"].isnull()]"
      ],
      "metadata": {
        "colab": {
          "base_uri": "https://localhost:8080/",
          "height": 502
        },
        "id": "74LbNgo-1rh7",
        "outputId": "7ccccf53-90d6-4e37-f67f-058aa65353cb"
      },
      "execution_count": 29,
      "outputs": [
        {
          "output_type": "execute_result",
          "data": {
            "text/plain": [
              "       Dress_ID     Style    Price  Rating         Size  Season NeckLine  \\\n",
              "1    1212192089    Casual      Low     0.0        Large  Summer   o-neck   \n",
              "2    1190380701   vintage     High     0.0        Large  Automn   o-neck   \n",
              "5    1068332458  bohemian      Low     0.0       Medium  Summer   v-neck   \n",
              "6    1220707172    Casual  Average     0.0  Extra large  Summer   o-neck   \n",
              "10    898481530     Flare  Average     0.0         Free  Spring   v-neck   \n",
              "..          ...       ...      ...     ...          ...     ...      ...   \n",
              "464   692445545    Casual      Low     4.4         Free  Summer   o-neck   \n",
              "469  1190558632      cute  Average     0.0        Large  Summer   o-neck   \n",
              "471   964917582    Casual  Average     5.0        Large  Summer   o-neck   \n",
              "475   713391965    Casual      Low     4.7       Medium  Spring   o-neck   \n",
              "476   532874347    Casual  Average     4.7       Medium  Summer   v-neck   \n",
              "\n",
              "    SleeveLength    Material FabricType Decoration Pattern Type  \\\n",
              "1          Petal  microfiber        NaN    ruffles       animal   \n",
              "2           full    polyster        NaN        NaN        print   \n",
              "5      sleevless         NaN        NaN        NaN        print   \n",
              "6           full      cotton        NaN        NaN        solid   \n",
              "10         short       nylon        NaN        NaN       animal   \n",
              "..           ...         ...        ...        ...          ...   \n",
              "464         full      cotton        NaN        NaN        solid   \n",
              "469    sleevless      cotton        NaN       lace        solid   \n",
              "471    sleevless      cotton        NaN        NaN          NaN   \n",
              "475         full    polyster        NaN        NaN        solid   \n",
              "476         full      cotton        NaN       lace        solid   \n",
              "\n",
              "     Recommendation  \n",
              "1                 0  \n",
              "2                 0  \n",
              "5                 0  \n",
              "6                 0  \n",
              "10                0  \n",
              "..              ...  \n",
              "464               1  \n",
              "469               1  \n",
              "471               1  \n",
              "475               1  \n",
              "476               1  \n",
              "\n",
              "[256 rows x 13 columns]"
            ],
            "text/html": [
              "\n",
              "  <div id=\"df-c5a3adb3-7ea7-4e3f-99a9-74600276010a\">\n",
              "    <div class=\"colab-df-container\">\n",
              "      <div>\n",
              "<style scoped>\n",
              "    .dataframe tbody tr th:only-of-type {\n",
              "        vertical-align: middle;\n",
              "    }\n",
              "\n",
              "    .dataframe tbody tr th {\n",
              "        vertical-align: top;\n",
              "    }\n",
              "\n",
              "    .dataframe thead th {\n",
              "        text-align: right;\n",
              "    }\n",
              "</style>\n",
              "<table border=\"1\" class=\"dataframe\">\n",
              "  <thead>\n",
              "    <tr style=\"text-align: right;\">\n",
              "      <th></th>\n",
              "      <th>Dress_ID</th>\n",
              "      <th>Style</th>\n",
              "      <th>Price</th>\n",
              "      <th>Rating</th>\n",
              "      <th>Size</th>\n",
              "      <th>Season</th>\n",
              "      <th>NeckLine</th>\n",
              "      <th>SleeveLength</th>\n",
              "      <th>Material</th>\n",
              "      <th>FabricType</th>\n",
              "      <th>Decoration</th>\n",
              "      <th>Pattern Type</th>\n",
              "      <th>Recommendation</th>\n",
              "    </tr>\n",
              "  </thead>\n",
              "  <tbody>\n",
              "    <tr>\n",
              "      <th>1</th>\n",
              "      <td>1212192089</td>\n",
              "      <td>Casual</td>\n",
              "      <td>Low</td>\n",
              "      <td>0.0</td>\n",
              "      <td>Large</td>\n",
              "      <td>Summer</td>\n",
              "      <td>o-neck</td>\n",
              "      <td>Petal</td>\n",
              "      <td>microfiber</td>\n",
              "      <td>NaN</td>\n",
              "      <td>ruffles</td>\n",
              "      <td>animal</td>\n",
              "      <td>0</td>\n",
              "    </tr>\n",
              "    <tr>\n",
              "      <th>2</th>\n",
              "      <td>1190380701</td>\n",
              "      <td>vintage</td>\n",
              "      <td>High</td>\n",
              "      <td>0.0</td>\n",
              "      <td>Large</td>\n",
              "      <td>Automn</td>\n",
              "      <td>o-neck</td>\n",
              "      <td>full</td>\n",
              "      <td>polyster</td>\n",
              "      <td>NaN</td>\n",
              "      <td>NaN</td>\n",
              "      <td>print</td>\n",
              "      <td>0</td>\n",
              "    </tr>\n",
              "    <tr>\n",
              "      <th>5</th>\n",
              "      <td>1068332458</td>\n",
              "      <td>bohemian</td>\n",
              "      <td>Low</td>\n",
              "      <td>0.0</td>\n",
              "      <td>Medium</td>\n",
              "      <td>Summer</td>\n",
              "      <td>v-neck</td>\n",
              "      <td>sleevless</td>\n",
              "      <td>NaN</td>\n",
              "      <td>NaN</td>\n",
              "      <td>NaN</td>\n",
              "      <td>print</td>\n",
              "      <td>0</td>\n",
              "    </tr>\n",
              "    <tr>\n",
              "      <th>6</th>\n",
              "      <td>1220707172</td>\n",
              "      <td>Casual</td>\n",
              "      <td>Average</td>\n",
              "      <td>0.0</td>\n",
              "      <td>Extra large</td>\n",
              "      <td>Summer</td>\n",
              "      <td>o-neck</td>\n",
              "      <td>full</td>\n",
              "      <td>cotton</td>\n",
              "      <td>NaN</td>\n",
              "      <td>NaN</td>\n",
              "      <td>solid</td>\n",
              "      <td>0</td>\n",
              "    </tr>\n",
              "    <tr>\n",
              "      <th>10</th>\n",
              "      <td>898481530</td>\n",
              "      <td>Flare</td>\n",
              "      <td>Average</td>\n",
              "      <td>0.0</td>\n",
              "      <td>Free</td>\n",
              "      <td>Spring</td>\n",
              "      <td>v-neck</td>\n",
              "      <td>short</td>\n",
              "      <td>nylon</td>\n",
              "      <td>NaN</td>\n",
              "      <td>NaN</td>\n",
              "      <td>animal</td>\n",
              "      <td>0</td>\n",
              "    </tr>\n",
              "    <tr>\n",
              "      <th>...</th>\n",
              "      <td>...</td>\n",
              "      <td>...</td>\n",
              "      <td>...</td>\n",
              "      <td>...</td>\n",
              "      <td>...</td>\n",
              "      <td>...</td>\n",
              "      <td>...</td>\n",
              "      <td>...</td>\n",
              "      <td>...</td>\n",
              "      <td>...</td>\n",
              "      <td>...</td>\n",
              "      <td>...</td>\n",
              "      <td>...</td>\n",
              "    </tr>\n",
              "    <tr>\n",
              "      <th>464</th>\n",
              "      <td>692445545</td>\n",
              "      <td>Casual</td>\n",
              "      <td>Low</td>\n",
              "      <td>4.4</td>\n",
              "      <td>Free</td>\n",
              "      <td>Summer</td>\n",
              "      <td>o-neck</td>\n",
              "      <td>full</td>\n",
              "      <td>cotton</td>\n",
              "      <td>NaN</td>\n",
              "      <td>NaN</td>\n",
              "      <td>solid</td>\n",
              "      <td>1</td>\n",
              "    </tr>\n",
              "    <tr>\n",
              "      <th>469</th>\n",
              "      <td>1190558632</td>\n",
              "      <td>cute</td>\n",
              "      <td>Average</td>\n",
              "      <td>0.0</td>\n",
              "      <td>Large</td>\n",
              "      <td>Summer</td>\n",
              "      <td>o-neck</td>\n",
              "      <td>sleevless</td>\n",
              "      <td>cotton</td>\n",
              "      <td>NaN</td>\n",
              "      <td>lace</td>\n",
              "      <td>solid</td>\n",
              "      <td>1</td>\n",
              "    </tr>\n",
              "    <tr>\n",
              "      <th>471</th>\n",
              "      <td>964917582</td>\n",
              "      <td>Casual</td>\n",
              "      <td>Average</td>\n",
              "      <td>5.0</td>\n",
              "      <td>Large</td>\n",
              "      <td>Summer</td>\n",
              "      <td>o-neck</td>\n",
              "      <td>sleevless</td>\n",
              "      <td>cotton</td>\n",
              "      <td>NaN</td>\n",
              "      <td>NaN</td>\n",
              "      <td>NaN</td>\n",
              "      <td>1</td>\n",
              "    </tr>\n",
              "    <tr>\n",
              "      <th>475</th>\n",
              "      <td>713391965</td>\n",
              "      <td>Casual</td>\n",
              "      <td>Low</td>\n",
              "      <td>4.7</td>\n",
              "      <td>Medium</td>\n",
              "      <td>Spring</td>\n",
              "      <td>o-neck</td>\n",
              "      <td>full</td>\n",
              "      <td>polyster</td>\n",
              "      <td>NaN</td>\n",
              "      <td>NaN</td>\n",
              "      <td>solid</td>\n",
              "      <td>1</td>\n",
              "    </tr>\n",
              "    <tr>\n",
              "      <th>476</th>\n",
              "      <td>532874347</td>\n",
              "      <td>Casual</td>\n",
              "      <td>Average</td>\n",
              "      <td>4.7</td>\n",
              "      <td>Medium</td>\n",
              "      <td>Summer</td>\n",
              "      <td>v-neck</td>\n",
              "      <td>full</td>\n",
              "      <td>cotton</td>\n",
              "      <td>NaN</td>\n",
              "      <td>lace</td>\n",
              "      <td>solid</td>\n",
              "      <td>1</td>\n",
              "    </tr>\n",
              "  </tbody>\n",
              "</table>\n",
              "<p>256 rows × 13 columns</p>\n",
              "</div>\n",
              "      <button class=\"colab-df-convert\" onclick=\"convertToInteractive('df-c5a3adb3-7ea7-4e3f-99a9-74600276010a')\"\n",
              "              title=\"Convert this dataframe to an interactive table.\"\n",
              "              style=\"display:none;\">\n",
              "        \n",
              "  <svg xmlns=\"http://www.w3.org/2000/svg\" height=\"24px\"viewBox=\"0 0 24 24\"\n",
              "       width=\"24px\">\n",
              "    <path d=\"M0 0h24v24H0V0z\" fill=\"none\"/>\n",
              "    <path d=\"M18.56 5.44l.94 2.06.94-2.06 2.06-.94-2.06-.94-.94-2.06-.94 2.06-2.06.94zm-11 1L8.5 8.5l.94-2.06 2.06-.94-2.06-.94L8.5 2.5l-.94 2.06-2.06.94zm10 10l.94 2.06.94-2.06 2.06-.94-2.06-.94-.94-2.06-.94 2.06-2.06.94z\"/><path d=\"M17.41 7.96l-1.37-1.37c-.4-.4-.92-.59-1.43-.59-.52 0-1.04.2-1.43.59L10.3 9.45l-7.72 7.72c-.78.78-.78 2.05 0 2.83L4 21.41c.39.39.9.59 1.41.59.51 0 1.02-.2 1.41-.59l7.78-7.78 2.81-2.81c.8-.78.8-2.07 0-2.86zM5.41 20L4 18.59l7.72-7.72 1.47 1.35L5.41 20z\"/>\n",
              "  </svg>\n",
              "      </button>\n",
              "      \n",
              "  <style>\n",
              "    .colab-df-container {\n",
              "      display:flex;\n",
              "      flex-wrap:wrap;\n",
              "      gap: 12px;\n",
              "    }\n",
              "\n",
              "    .colab-df-convert {\n",
              "      background-color: #E8F0FE;\n",
              "      border: none;\n",
              "      border-radius: 50%;\n",
              "      cursor: pointer;\n",
              "      display: none;\n",
              "      fill: #1967D2;\n",
              "      height: 32px;\n",
              "      padding: 0 0 0 0;\n",
              "      width: 32px;\n",
              "    }\n",
              "\n",
              "    .colab-df-convert:hover {\n",
              "      background-color: #E2EBFA;\n",
              "      box-shadow: 0px 1px 2px rgba(60, 64, 67, 0.3), 0px 1px 3px 1px rgba(60, 64, 67, 0.15);\n",
              "      fill: #174EA6;\n",
              "    }\n",
              "\n",
              "    [theme=dark] .colab-df-convert {\n",
              "      background-color: #3B4455;\n",
              "      fill: #D2E3FC;\n",
              "    }\n",
              "\n",
              "    [theme=dark] .colab-df-convert:hover {\n",
              "      background-color: #434B5C;\n",
              "      box-shadow: 0px 1px 3px 1px rgba(0, 0, 0, 0.15);\n",
              "      filter: drop-shadow(0px 1px 2px rgba(0, 0, 0, 0.3));\n",
              "      fill: #FFFFFF;\n",
              "    }\n",
              "  </style>\n",
              "\n",
              "      <script>\n",
              "        const buttonEl =\n",
              "          document.querySelector('#df-c5a3adb3-7ea7-4e3f-99a9-74600276010a button.colab-df-convert');\n",
              "        buttonEl.style.display =\n",
              "          google.colab.kernel.accessAllowed ? 'block' : 'none';\n",
              "\n",
              "        async function convertToInteractive(key) {\n",
              "          const element = document.querySelector('#df-c5a3adb3-7ea7-4e3f-99a9-74600276010a');\n",
              "          const dataTable =\n",
              "            await google.colab.kernel.invokeFunction('convertToInteractive',\n",
              "                                                     [key], {});\n",
              "          if (!dataTable) return;\n",
              "\n",
              "          const docLinkHtml = 'Like what you see? Visit the ' +\n",
              "            '<a target=\"_blank\" href=https://colab.research.google.com/notebooks/data_table.ipynb>data table notebook</a>'\n",
              "            + ' to learn more about interactive tables.';\n",
              "          element.innerHTML = '';\n",
              "          dataTable['output_type'] = 'display_data';\n",
              "          await google.colab.output.renderOutput(dataTable, element);\n",
              "          const docLink = document.createElement('div');\n",
              "          docLink.innerHTML = docLinkHtml;\n",
              "          element.appendChild(docLink);\n",
              "        }\n",
              "      </script>\n",
              "    </div>\n",
              "  </div>\n",
              "  "
            ]
          },
          "metadata": {},
          "execution_count": 29
        }
      ]
    },
    {
      "cell_type": "markdown",
      "source": [
        "To be on safe side we can go with option 2 of creating Missing Category for both type of data.\n",
        "We can also remove the rows with more than 2 columns missing but this option is not there in question.\n",
        "There is a confusion in option2 or option3. Going with option 2 for now."
      ],
      "metadata": {
        "id": "HXzLUJAU2APO"
      }
    },
    {
      "cell_type": "markdown",
      "source": [
        "#####Feedback\n",
        "Wrong, should have gone with option 3."
      ],
      "metadata": {
        "id": "lJoqRHWL5OLo"
      }
    },
    {
      "cell_type": "code",
      "source": [
        "attr = attr[~attr.Price.isnull()]\n",
        "attr = attr[~attr.Season.isnull()]\n",
        "attr = attr[~attr.NeckLine.isnull()]\n",
        "attr = attr[~attr.SleeveLength.isnull()]\n",
        "df2 = df2[~df2.Winter.isnull()]\n",
        "df2 = df2[~df2.Autumn.isnull()]\n",
        "\n",
        "attr.Material= attr.Material.replace(np.nan, \"Missing\")\n",
        "attr.FabricType= attr.FabricType.replace(np.nan, \"Missing\")\n",
        "attr.Decoration= attr.Decoration.replace(np.nan, \"Missing\")\n",
        "attr['Pattern Type']= attr['Pattern Type'].replace(np.nan, \"Missing\")"
      ],
      "metadata": {
        "id": "CPx4ENHU1reX"
      },
      "execution_count": 31,
      "outputs": []
    },
    {
      "cell_type": "markdown",
      "source": [
        "####Question 9:\n",
        "In the given dataset, there are certain discrepancies with the categorical names, such as irregular spellings. Choose the correct option of columns with irregular categories and update them.\n",
        "\n"
      ],
      "metadata": {
        "id": "gAXCbae46OjH"
      }
    },
    {
      "cell_type": "markdown",
      "source": [
        "Checking the columns mentioned."
      ],
      "metadata": {
        "id": "u3tFNHwu6hiZ"
      }
    },
    {
      "cell_type": "code",
      "source": [
        "attr[\"Season\"].value_counts()"
      ],
      "metadata": {
        "colab": {
          "base_uri": "https://localhost:8080/"
        },
        "id": "xsFoCRj76gUh",
        "outputId": "b5b164fc-7201-4d33-ba21-caecc22b21bd"
      },
      "execution_count": 34,
      "outputs": [
        {
          "output_type": "execute_result",
          "data": {
            "text/plain": [
              "Summer    151\n",
              "Spring    116\n",
              "Winter     93\n",
              "Automn     59\n",
              "winter     44\n",
              "Autumn      7\n",
              "spring      2\n",
              "Name: Season, dtype: int64"
            ]
          },
          "metadata": {},
          "execution_count": 34
        }
      ]
    },
    {
      "cell_type": "code",
      "source": [
        "attr[\"SleeveLength\"].value_counts()"
      ],
      "metadata": {
        "colab": {
          "base_uri": "https://localhost:8080/"
        },
        "id": "dofaDqa77j68",
        "outputId": "303a7204-1efd-4131-e33c-ebead8beeddf"
      },
      "execution_count": 35,
      "outputs": [
        {
          "output_type": "execute_result",
          "data": {
            "text/plain": [
              "sleevless         213\n",
              "full               92\n",
              "short              92\n",
              "halfsleeve         32\n",
              "threequarter       17\n",
              "thressqatar         8\n",
              "sleeveless          4\n",
              "capsleeves          3\n",
              "sleeevless          2\n",
              "cap-sleeves         2\n",
              "urndowncollor       1\n",
              "half                1\n",
              "turndowncollor      1\n",
              "threequater         1\n",
              "Petal               1\n",
              "butterfly           1\n",
              "sleveless           1\n",
              "Name: SleeveLength, dtype: int64"
            ]
          },
          "metadata": {},
          "execution_count": 35
        }
      ]
    },
    {
      "cell_type": "code",
      "source": [
        "attr[\"Style\"].value_counts()"
      ],
      "metadata": {
        "colab": {
          "base_uri": "https://localhost:8080/"
        },
        "id": "NgCSqc0T7vtv",
        "outputId": "ef495d09-fdbb-47f6-bc70-a70ba334365f"
      },
      "execution_count": 36,
      "outputs": [
        {
          "output_type": "execute_result",
          "data": {
            "text/plain": [
              "Casual      217\n",
              "Sexy         65\n",
              "party        48\n",
              "cute         43\n",
              "vintage      25\n",
              "bohemian     23\n",
              "Brief        17\n",
              "work         17\n",
              "sexy          7\n",
              "Novelty       6\n",
              "Flare         2\n",
              "OL            1\n",
              "fashion       1\n",
              "Name: Style, dtype: int64"
            ]
          },
          "metadata": {},
          "execution_count": 36
        }
      ]
    },
    {
      "cell_type": "markdown",
      "source": [
        "As seen from the output of command above, Season and SleeveLength columns need standardisation correction because case and misspelling."
      ],
      "metadata": {
        "id": "3bvJxCl27_nO"
      }
    },
    {
      "cell_type": "markdown",
      "source": [
        "#####Feedback\n",
        "Correct"
      ],
      "metadata": {
        "id": "ejKiF4D_8QiR"
      }
    },
    {
      "cell_type": "code",
      "source": [
        "attr.Season= attr.Season.replace('Automn', \"Autumn\")\n",
        "attr.Season= attr.Season.replace('spring', \"Spring\")\n",
        "attr.Season= attr.Season.replace('winter', \"Winter\")\n",
        "\n",
        "attr.SleeveLength= attr.SleeveLength.replace(['cap-sleeves', 'capsleeves'], \"cap sleeves\")\n",
        "attr.SleeveLength= attr.SleeveLength.replace('full', \"full sleeves\")\n",
        "attr.SleeveLength= attr.SleeveLength.replace(['half','halfsleeve'], \"half sleeves\")\n",
        "attr.SleeveLength= attr.SleeveLength.replace(['sleevless', 'sleeevless', 'sleeveless', 'sleveless'], \"sleeve less\")\n",
        "attr.SleeveLength= attr.SleeveLength.replace(['threequarter','threequater', 'thressqatar'], \"three quater\")\n",
        "attr.SleeveLength= attr.SleeveLength.replace(['turndowncollor','urndowncollor'], \"turn down collar\")"
      ],
      "metadata": {
        "id": "NshFe7NP74Bd"
      },
      "execution_count": 37,
      "outputs": []
    }
  ]
}